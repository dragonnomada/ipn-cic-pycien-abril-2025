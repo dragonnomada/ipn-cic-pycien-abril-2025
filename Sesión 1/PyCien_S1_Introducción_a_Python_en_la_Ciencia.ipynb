{
  "nbformat": 4,
  "nbformat_minor": 0,
  "metadata": {
    "colab": {
      "provenance": []
    },
    "kernelspec": {
      "name": "python3",
      "display_name": "Python 3"
    },
    "language_info": {
      "name": "python"
    }
  },
  "cells": [
    {
      "cell_type": "markdown",
      "source": [
        "# Introducción a Python en la Ciencia\n",
        "\n",
        "> Python en el Ámbito Científico\n",
        ">\n",
        "> **Sesión 1**\n",
        ">\n",
        "> Alan Badillo Salas (alan@nomadacode.com)"
      ],
      "metadata": {
        "id": "j65NoO2Fg2Wj"
      }
    },
    {
      "cell_type": "markdown",
      "source": [
        "## Bienvenida del curso\n",
        "\n",
        "La naturaleza y la realidad están compuestas de elementos complejos de entender para el humano, y el descubrimiento del cómo funcionan las cosas ha llevado siglos de aprendizaje por parte de la humanidad.\n",
        "\n",
        "Un artesano es capaz de tomar materiales y crear un artefacto capaz de reflejar un diseño que mezcla física, química, matemáticas, biología y demás ciencias del entendimiento. Parecería imposible construir una guitarra capaz de tocar música, un mole con el sabor de mil especias o una hamaca con diseños extraordinarios, pero todo esto abunda en nuestro día a día."
      ],
      "metadata": {
        "id": "8YhzUhRGho4q"
      }
    },
    {
      "cell_type": "markdown",
      "source": [
        "¿Por qué nos interesa saber cómo funcionan las cosas?\n",
        "\n",
        "> Piensa brevemente en el porqué y aporta una opinión al respecto."
      ],
      "metadata": {
        "id": "rgjn1zCoiqOI"
      }
    },
    {
      "cell_type": "markdown",
      "source": [
        "¿En qué se diferencia la ciencia del arte y en qué convergen?\n",
        "\n",
        "> Piensa acerca del método científico y las formas no científicas de explicar y expresar la realidad"
      ],
      "metadata": {
        "id": "Gb-GMBg3itMa"
      }
    },
    {
      "cell_type": "markdown",
      "source": [
        "¿Qué es un fenómeno natural y cómo se describe?\n",
        "\n",
        "> Intenta pensar en un fenómeno real que esté relacionado al aérea más cercana de tu interés, explica brevemente en qué consiste de un modo informal y luego intenta volver a explicarlo del modo más formal posible"
      ],
      "metadata": {
        "id": "EkDkLDjDi6pU"
      }
    },
    {
      "cell_type": "markdown",
      "source": [
        "¿Cómo se plantea un problema y porqué es un problema?\n",
        "\n",
        "> Intenta definir qué es un problema y da un ejemplo de un problema cercano a tu realidad, explica para quién eso que ejemplificas representa un problema"
      ],
      "metadata": {
        "id": "YeRQPXb3jVSH"
      }
    },
    {
      "cell_type": "markdown",
      "source": [
        "## Introducción a los problemas del ámbito científico\n",
        "\n",
        "Quizás no todos los problemas parezcan problemas, algunos podrían pensar que eso no es un problema, más bien un conflicto particular o divagar al respecto. Pero, lo cierto es que la naturaleza está llena de problemas. Piensa en como una hormiga tiene buscar comida y planificar una ruta para llevar la comida a la colmena, estimar cuántas hormigas adicionales se necesitarán para llevar el trozo de comida al hormiguero y calcular el costo-beneficio del esfuerzo involucrado. Además, piensa en que la hormiga tiene que hacer esto cada día para sobrevivir, quizás un día no sea necesario, quizás varias semanas de comida estén garantizadas, pero eventualmente volverá a tener que resolver los mismos problemas.\n",
        "\n",
        "Sin importar si somos humanos u hormigas, el problema este problema está planteado y su planteamiento es el mismo, desde la perspectiva de la hormiga es *lo que se tiene que hacer*, desde la perspectiva del humano es *lo que la hormiga tiene que hacer*, pero ambas perspectivas sobre el mismo problema no modifican el planteamiento del problema: es *lo que se tiene que resolver*.\n",
        "\n",
        "Cuándo observamos un fenómeno, este involucra casi infinitos factores, metereológicos, espaciales, químicos, físicos, interacciones de seres vivos. Todo esto hace que los fenómenos sean complejos de entender, observar fenómenos reales es similar o superior a observar sistemas complejos, llenos de variables desconocidas, factores ocultos o mágia chamánica.\n",
        "\n",
        "El entendimiento de los fenómenos es lo que ilumina a la humanidad, le quita el velo ocultista, revela la caja negra, explica la mágia de las cosas y se vuelve tecnología. Entre la mágia y la tecnología sólo hay un paso: el control de la realidad.\n",
        "\n",
        "Si pudiéramos entender todos los fenómenos que nos rodean, nada estaría oculto a nuestra conciencia, podríamos controlarlo todo o al menos entenderlo y aceptarlo. Pero, siempre hay una búsqueda incansable por la verdad, y esta búsqueda nos motiva a ser más inteligentes, astutos y superiores.\n",
        "\n",
        "Imagina al primer ladrón de la naturaleza, aquél organismo vivo que con un esfuerzo mínimo logró controlar a otro para que obedecer sus órdenes. ¿Crees que fue un virus, una bacteria o un primate?\n",
        "\n",
        "La astucia para resolver problemas nos vuelve inteligentes, no basta saber cómo funciona algo, sino tener la capacidad de aprovechar ese conocimiento. Para lograrlo, hace falta más que plantear un problema, se debe construir un modelo del problema con el que seamos capaces de manipularlo y proyectar los datos, poder viajar al futuro o al pasado a través del modelo.\n",
        "\n",
        "Piensa en una bola de cañon que es disparada para atacar a un enemigo, si se dispara demasiado fuerte, la bola del cañón caerá bastante lejos del enemigo, y si se dispara demasiado suave, la bola apenas caera a unos metros del caño. ¿Cuál debería ser una fuerza suficiente para disparar un cañón?, ¿Cuánta polvora ponemos dentro del cañón?\n",
        "\n",
        "Crear un modelo que explique la realidad no es sencillo, Newton tardó décadas para poder describir cómo una manzana caía de un árbol, el fenómeno es generalmente más sencillo que el problema, el fenómeno es que una manzana cae de un árbol, el problema es que todos los cuerpos son atraídos hacia el suelo, pero plantear un modelo que describa cómo todos los objetos dentro de un espacio son atraídos a un cuerpo de mayor masa por influencia de una fuerza gravitatoria, está en otro nivel."
      ],
      "metadata": {
        "id": "SMm1ZCFPjmvn"
      }
    },
    {
      "cell_type": "markdown",
      "source": [
        "¿Qué es un fenómeno real y natural?\n",
        "\n",
        "> Intenta explicar qué es un fenómeno real, explica si es lo mismo hablar de fenómenos reales y naturales, da un ejemplo de lo que se te ocurra por fenómeno real y por fenómeno natural, resume brevemente qué entiendes por realidad y qué entiendes por naturaleza"
      ],
      "metadata": {
        "id": "K29b4NHXjk8Y"
      }
    },
    {
      "cell_type": "markdown",
      "source": [
        "¿Cómo se plantea un problema?\n",
        "\n",
        "> Explica cuáles son los factores más importantes para plantear un problema, explica si existe un sujeto ligado al problema, explica si el problema es general o particular, da un ejemplo de un planteamiento de algún problema, explica si el problema puede ser entendido por una máquina o qué necesitaría la máquina para entenderlo"
      ],
      "metadata": {
        "id": "SkqeVRNaov1s"
      }
    },
    {
      "cell_type": "markdown",
      "source": [
        "¿Qué es un modelo matemático?\n",
        "\n",
        "> Explica qué es un modelo en general, luego explica que sería un modelo matemático y finalmente da un ejemplo de un modelo matemático, explica si el modelo matemático puede ser entendido por una máquina o qué necesitaría la máquina para poder entenderlo"
      ],
      "metadata": {
        "id": "r5ZiaTbSpKt5"
      }
    },
    {
      "cell_type": "markdown",
      "source": [
        "### Problema 1 - Levantar un objeto del suelo\n",
        "\n",
        "**Fenómeno**: Hay un objetos pequeños regados en el suelo y se desea levantarlos para tirarlos a la basura si no valen nada o venderlos si se detecta algún valor.\n",
        "\n",
        "**Plantemiento del problema**: En un suelo plano, hay objetos de dimensión limitada a la sujeción de una pinza, los cuales deben ser sujetados por la pinza, analizados y dirigidos a un contenedor de objetos valiosos o un contenedor de objetos basura.\n",
        "\n",
        "**Modelo matemático**: En un plano infinito sobre los ejes $X$ y $Y$, hay objetos que pueden ser contenidos en un poliedro convexo y acotado a un radio máximo $R$. Definimos como una **pinza** de longitud $R$ a un segmento de tamaño variable en $[0, R]$ con un punto de referencia externo que establece la posición del centro del segmento y el vector normal al segmento, así como el tamaño de apertura del segmento, donde $0$ será una apertura nula y $1$ la apertura máxima que lleve al segmento a tener un tamaño $R$. Se define la operación de **sujeción** de la *pinza* hacia un objeto, si la posición de la pinza y su apertura coincide con dos puntos en la superficie del objeto, que no atraviesen al mismo. Se plantea un problema de optimización, de llevar la pinza de la posición $U_0 = (x_0, y_0, z_0)$ a la poisición $U_1 = (x_1, y_1, z_1)$ de tal forma que la pinza sea capaz de sujetar el objeto, este problema requiere encontrar la normal $n_1 = (a_1, b_1, c_1)$ tal que la pinza sea capaz de sujetar el objeto sin atravesarlo"
      ],
      "metadata": {
        "id": "fSKobz1KpdRo"
      }
    },
    {
      "cell_type": "markdown",
      "source": [
        "#### Ejemplo: Camino aleatorio óptimo\n",
        "\n",
        "Reolver el **Problema 1** sobre levantar un objeto del suelo parece bastante complejo, sin embargo, podemos plantear un subproblema más pequeño para resolver una de las partes del problema.\n",
        "\n",
        "Por ejemplo, pasar de una posición $U_0 = (x_0, y_0)$ a una posición $U_1 = (x_1, y_1)$ mediante un camino de pasos, y luego medir el error entre el camino y la posición deseada para intentar optimizarlo."
      ],
      "metadata": {
        "id": "lNeozKpn5FO0"
      }
    },
    {
      "cell_type": "markdown",
      "source": [
        "> **Paso 1**: Calcular una secuencia de pasos aleatorios entre el punto $U_0$ y el punto $U_1$.\n",
        "\n",
        "Imaginemos que no sabemos cuál es el camino más corto entre $U_0$ y $U_1$ como para establecer una dirección hacia donde movernos en cada paso, entonces, tendríamos que movernos aleatoriamente en cada paso sin saber si nos estamos acercando o alejando.\n",
        "\n",
        "Vamos a suponer que en $10$ pasos tenemos que llegar lo más cerca que sea posible al punto $U_1$ partiendo del punto $U_0$. Cada paso lo daremos en una dirección aleatoria."
      ],
      "metadata": {
        "id": "pCk-buhc55lT"
      }
    },
    {
      "cell_type": "code",
      "source": [
        "# 1. Definimos el punto (x0, y0) de donde partiremos\n",
        "# por ejemplo, de punto (5, 3)\n",
        "x0, y0 = (5, 3)\n",
        "\n",
        "# 2. Generamos una lista vacía donde guardar los pasos aleatorios\n",
        "pasos = []\n",
        "\n",
        "# 3. Agregamos el punto de partida a los pasos, siendo el primer paso\n",
        "pasos.append((x0, y0))\n",
        "\n",
        "# 4. Suponemos que nos ubicamos actualmente en la posición (x, y)\n",
        "# la cual será actualizada en cada paso que demos\n",
        "x, y = (x0, y0)\n",
        "\n",
        "# 5. Para cada paso que demos, buscamos una dirección aleatoria\n",
        "# actualizamos la ubicación (x, y) y guardamos la posición\n",
        "# a la que llegamos en la lista de pasos\n",
        "import random\n",
        "for i in range(10):\n",
        "  # Calculamos una dirección aleatoria en x y y\n",
        "  # podemos desplazarnos aleatoriamente entre (-1, 1) en x y y\n",
        "  dx = random.uniform(-1, 1)\n",
        "  dy = random.uniform(-1, 1)\n",
        "\n",
        "  # Actualizamos la posición usando la posición actual\n",
        "  # más la diferencia aleatoria en x o y\n",
        "  x = x + dx\n",
        "  y = y + dy\n",
        "\n",
        "  # Guardamos el paso\n",
        "  pasos.append((x, y))\n",
        "\n",
        "# Así quedarían los 10 pasos más el inicial\n",
        "pasos"
      ],
      "metadata": {
        "colab": {
          "base_uri": "https://localhost:8080/",
          "height": 0
        },
        "id": "M2UB_vYM5Ezi",
        "outputId": "d5b319e5-709b-481c-df99-d6974673b8ef"
      },
      "execution_count": 455,
      "outputs": [
        {
          "output_type": "execute_result",
          "data": {
            "text/plain": [
              "[(5, 3),\n",
              " (4.73309149372453, 2.7709192343224007),\n",
              " (4.161457741412595, 3.616247060884234),\n",
              " (3.203719816164581, 3.020049361570387),\n",
              " (3.1008143412474194, 3.9001804865068688),\n",
              " (3.9617372484608833, 3.582033757063316),\n",
              " (4.778524588866312, 3.5886447312032774),\n",
              " (4.505354520082653, 3.078234213159549),\n",
              " (4.830695836176243, 3.7914818064714857),\n",
              " (5.795913731959092, 2.989391523793527),\n",
              " (6.270827267836054, 3.6518350933929167)]"
            ]
          },
          "metadata": {},
          "execution_count": 455
        }
      ]
    },
    {
      "cell_type": "markdown",
      "source": [
        "> **Paso 2**: Calcular que tan lejos está cada paso de $U_1$\n",
        "\n",
        "Ahora tenemos una lista de 10 pasos más el punto inicial al principio, pero no sabemos si esos pasos están cerca o lejos del punto $U_1$ al que queremos llegar, por lo que tenemos que calcular el error entre cada posición al dar los pasos y el punto $U_1 = (x_1, y_1)$.\n",
        "\n",
        "Entre menor sea el error, significará que el camino es más corto, es decir, en cada paso estamos lo más cerca posible del punto $U_1$.\n",
        "\n",
        "Para medir el error entre un punto $(x, y)$ y el punto $(x_1, y_1)$ debemos usar una función que mida la distancia entre ambos puntos, por ejemplo, en un plano, podemos usar una distancia euclidiana, pero en una esfera deberíamos usar una distancia esférica."
      ],
      "metadata": {
        "id": "EzkXhCfc9DmN"
      }
    },
    {
      "cell_type": "code",
      "source": [
        "# 1. Definimos el punto (x1, y1) a donde queremos llegar\n",
        "x1, y1 = (10, 10)\n",
        "\n",
        "# 2. Definimos una función que mida la distancia entre el punto (x, y)\n",
        "# y el punto (x1, y1)\n",
        "def distancia(x, y, x1, y1):\n",
        "  return ((x - x1) ** 2 + (y - y1) ** 2) ** 0.5\n",
        "\n",
        "# 3. Acumulamos el error entre las distancias de cada paso y el punto (x1, y1)\n",
        "# partiendo de 0\n",
        "e = 0\n",
        "\n",
        "# 4. Recorremos cada paso y calculamos el error entre el punto alcanzado\n",
        "# en cada paso y el punto (x1, y1) usando la función de distancia\n",
        "for x, y in pasos:\n",
        "  # Calculamos la distancia entre los puntos\n",
        "  d = distancia(x, y, x1, y1)\n",
        "\n",
        "  # Acumulamos el error\n",
        "  e = e + d\n",
        "\n",
        "e"
      ],
      "metadata": {
        "colab": {
          "base_uri": "https://localhost:8080/",
          "height": 0
        },
        "id": "Wnv_R7VD-J9u",
        "outputId": "79a2f8b5-421d-4032-f9d7-e959a41627b4"
      },
      "execution_count": 456,
      "outputs": [
        {
          "output_type": "execute_result",
          "data": {
            "text/plain": [
              "94.68273833408716"
            ]
          },
          "metadata": {},
          "execution_count": 456
        }
      ]
    },
    {
      "cell_type": "markdown",
      "source": [
        "> **Paso 3**: Minimizamos el error\n",
        "\n",
        "El error total entre cada paso que dimos y el punto $(x1, y1)$ puede ser alto, al menos sabemos que si no es cero este tendrá mayor distancia entre los pasos y el punto al que queremos llegar.\n",
        "\n",
        "Para poder optimizar el error, podríamos sustituir un paso por otro aleatorio, si el error es menor, entonces podemos conservar ese paso, sino podemos descartarlo ya que no mejora nada.\n",
        "\n",
        "Entonces, el procedimiento que podríamos diseñar para optimizar los pasos, será reemplazar un paso seleccionado aleatoriamente a la vez, hasta que después de muchas épocas de reemplazo, tengamos el mejor camino posible."
      ],
      "metadata": {
        "id": "tV7GMxsh_Uz0"
      }
    },
    {
      "cell_type": "code",
      "source": [
        "# 1. Primero creamos una copia de los pasos para no perder los originales\n",
        "pasos_optimizados = pasos[:]\n",
        "\n",
        "# 2. Definimos la función que mide el error\n",
        "def error_pasos(pasos):\n",
        "  return sum([distancia(x, y, x1, y1) for x, y in pasos])\n",
        "\n",
        "# 3. Durante 5 épocas buscamos minimizar el error\n",
        "for epoca in range(5):\n",
        "  # Cramos una copia con los pasos de prueba\n",
        "  pasos_prueba = pasos_optimizados[:]\n",
        "\n",
        "  # Primero seleccionamos el índice de un paso a reemplazar\n",
        "  # excepto para el primer punto que es el inicial\n",
        "  i = random.choice(range(1, 11))\n",
        "\n",
        "  # Luego obtenemos el punto anterior para tomar una dirección diferente\n",
        "  j = i - 1\n",
        "  xj, yj = pasos[j]\n",
        "\n",
        "  # Suponemos que la ubicación actual es (xj, yj)\n",
        "  x, y = xj, yj\n",
        "\n",
        "  # Ahora calculamos nuevos pasos partiendo de xj, yj\n",
        "  # hasta completar los pasos faltantes reemplazados\n",
        "  for h in range(i, 11):\n",
        "    dx = random.uniform(-1, 1)\n",
        "    dy = random.uniform(-1, 1)\n",
        "\n",
        "    x = x + dx\n",
        "    y = y + dy\n",
        "\n",
        "    # Reemplazamos el h-ésimo punto desde i hacia enfrente\n",
        "    # en la lista con los pasos de prueba\n",
        "    pasos_prueba[h] = (x, y)\n",
        "\n",
        "  # Medimos el error entre los pasos y los nuevos pasos de prueba\n",
        "  e_pasos = error_pasos(pasos_optimizados)\n",
        "  e_prueba = error_pasos(pasos_prueba)\n",
        "\n",
        "  # Si el error es menor en los pasos de prueba\n",
        "  # reemplazamos los pasos\n",
        "  if e_prueba < e_pasos:\n",
        "    pasos_optimizados = pasos_prueba\n",
        "\n",
        "  # Se repetirá en otra época\n",
        "\n",
        "# Ahora se han alcanzado los mejores pasos en 5 épocas\n",
        "pasos_optimizados"
      ],
      "metadata": {
        "colab": {
          "base_uri": "https://localhost:8080/",
          "height": 0
        },
        "id": "TOIf8OY6_UQ8",
        "outputId": "e7549b2d-ec68-4565-9a83-a2f7a97b3684"
      },
      "execution_count": 457,
      "outputs": [
        {
          "output_type": "execute_result",
          "data": {
            "text/plain": [
              "[(5, 3),\n",
              " (4.73309149372453, 2.7709192343224007),\n",
              " (4.161457741412595, 3.616247060884234),\n",
              " (3.203719816164581, 3.020049361570387),\n",
              " (4.1156379106906025, 3.7337844300148424),\n",
              " (3.328271791493484, 3.8386156324110683),\n",
              " (4.1353408488115875, 4.731239205250039),\n",
              " (5.046126994415438, 4.105125349184581),\n",
              " (5.07554555981286, 4.873696065431507),\n",
              " (5.868603913616463, 4.897802469926322),\n",
              " (5.73651859127162, 5.19277946383623)]"
            ]
          },
          "metadata": {},
          "execution_count": 457
        }
      ]
    },
    {
      "cell_type": "markdown",
      "source": [
        "Inspeccionamos el error entre los pasos originales y los pasos optimizados"
      ],
      "metadata": {
        "id": "qy5lAhyQDRNa"
      }
    },
    {
      "cell_type": "code",
      "source": [
        "print(\"Error pasos originales:\", error_pasos(pasos))\n",
        "print(\"Error pasos optimizados:\", error_pasos(pasos_optimizados))"
      ],
      "metadata": {
        "colab": {
          "base_uri": "https://localhost:8080/",
          "height": 0
        },
        "id": "Fj1lLtCBDVOx",
        "outputId": "dcd1da5b-c534-4fd0-ef2b-de64374c42fb"
      },
      "execution_count": 458,
      "outputs": [
        {
          "output_type": "stream",
          "name": "stdout",
          "text": [
            "Error pasos originales: 94.68273833408716\n",
            "Error pasos optimizados: 89.30013496433983\n"
          ]
        }
      ]
    },
    {
      "cell_type": "markdown",
      "source": [
        "Se observa que el error es ligeramente mejor para los pasos optimizados.\n",
        "\n"
      ],
      "metadata": {
        "id": "g9wuP8jgDd3U"
      }
    },
    {
      "cell_type": "markdown",
      "source": [
        "> **Paso 4**: Graficamos la diferencia entre los pasos originales y los pasos optimizados"
      ],
      "metadata": {
        "id": "lg7yT3z2Dnla"
      }
    },
    {
      "cell_type": "code",
      "source": [
        "import matplotlib.pyplot as pyplot\n",
        "\n",
        "X, Y = zip(*pasos)\n",
        "\n",
        "pyplot.plot(X, Y, \"ro--\")\n",
        "pyplot.scatter([10], [10], c=\"magenta\", marker=\"*\")\n",
        "pyplot.xlim(2, 11)\n",
        "pyplot.ylim(2, 11)\n",
        "pyplot.show()"
      ],
      "metadata": {
        "colab": {
          "base_uri": "https://localhost:8080/",
          "height": 435
        },
        "id": "6Toj3O5yDdGy",
        "outputId": "f08236ae-4017-4bfb-9575-c715c488e11e"
      },
      "execution_count": 459,
      "outputs": [
        {
          "output_type": "display_data",
          "data": {
            "text/plain": [
              "<Figure size 640x480 with 1 Axes>"
            ],
            "image/png": "[encoded data removed]"
          },
          "metadata": {}
        }
      ]
    },
    {
      "cell_type": "code",
      "source": [
        "Xopt, Yopt = zip(*pasos_optimizados)\n",
        "pyplot.plot(Xopt, Yopt, \"bo--\")\n",
        "pyplot.scatter([10], [10], c=\"magenta\", marker=\"*\")\n",
        "pyplot.xlim(2, 11)\n",
        "pyplot.ylim(2, 11)\n",
        "pyplot.show()"
      ],
      "metadata": {
        "colab": {
          "base_uri": "https://localhost:8080/",
          "height": 435
        },
        "id": "wdWf-NlFEcIe",
        "outputId": "97ba2f51-54b2-4ded-8657-e4cd3ad4096c"
      },
      "execution_count": 460,
      "outputs": [
        {
          "output_type": "display_data",
          "data": {
            "text/plain": [
              "<Figure size 640x480 with 1 Axes>"
            ],
            "image/png": "[encoded data removed]"
          },
          "metadata": {}
        }
      ]
    },
    {
      "cell_type": "markdown",
      "source": [
        "> **Paso 5**: Ejecutamos durante 5,000 épocas de optimización\n",
        "\n",
        "Parece que el camino se optimiza ligeramente en 5 épocas, pero no es visible ni natural ver como el camino mejora, pero si probamos optimizar durante otras 5,000 épocas tenemos"
      ],
      "metadata": {
        "id": "_I66H4TfEm-L"
      }
    },
    {
      "cell_type": "code",
      "source": [
        "for epoca in range(5000):\n",
        "  pasos_prueba = pasos_optimizados[:]\n",
        "\n",
        "  i = random.choice(range(1, 11))\n",
        "\n",
        "  j = i - 1\n",
        "  xj, yj = pasos[j]\n",
        "\n",
        "  x, y = xj, yj\n",
        "\n",
        "  for h in range(i, 11):\n",
        "    dx = random.uniform(-1, 1)\n",
        "    dy = random.uniform(-1, 1)\n",
        "\n",
        "    x = x + dx\n",
        "    y = y + dy\n",
        "\n",
        "    pasos_prueba[h] = (x, y)\n",
        "\n",
        "  e_pasos = error_pasos(pasos_optimizados)\n",
        "  e_prueba = error_pasos(pasos_prueba)\n",
        "\n",
        "  if e_prueba < e_pasos:\n",
        "    pasos_optimizados = pasos_prueba\n",
        "\n",
        "Xopt, Yopt = zip(*pasos_optimizados)\n",
        "pyplot.plot(Xopt, Yopt, \"bo--\")\n",
        "pyplot.scatter([10], [10], c=\"magenta\", marker=\"*\")\n",
        "pyplot.xlim(2, 11)\n",
        "pyplot.ylim(2, 11)\n",
        "pyplot.show()"
      ],
      "metadata": {
        "colab": {
          "base_uri": "https://localhost:8080/",
          "height": 435
        },
        "id": "lh20s8mFE7b8",
        "outputId": "6f5888fd-8d01-4b79-df9f-8c4f1be5c83d"
      },
      "execution_count": 528,
      "outputs": [
        {
          "output_type": "display_data",
          "data": {
            "text/plain": [
              "<Figure size 640x480 with 1 Axes>"
            ],
            "image/png": "[encoded data removed]"
          },
          "metadata": {}
        }
      ]
    },
    {
      "cell_type": "markdown",
      "source": [
        "Si ejecutamos varias veces, el camino será cada vez mejor hasta encontrar una ruta óptima que nos lleve del punto $U_0$ al punto $U_1$."
      ],
      "metadata": {
        "id": "SjOg5evrGDEJ"
      }
    },
    {
      "cell_type": "markdown",
      "source": [
        "### Problema 2 - Número de monedas que carga una persona\n",
        "\n",
        "**Fenómeno**: El banco ha observado que muchas personas prefieren cargar monedas que billetes, esto debido a que las usan en su día a día para el transporte o resultado de las transacciones que realiza. En una hora aleatoria del día, se pueden encuestar a las personas en la calle o un salón de clases sobre la cantidad de monedas que carga la persona, considerando solo las monedas de $\\$1$, $\\$2$, $\\$5$ y $\\$10$ pesos mexicanos.\n",
        "\n",
        "**Plantemiento del problema**: ¿Cómo podemos comparar el número de monedas que carga una persona para las diferentes denominaciones?.\n",
        "\n",
        "**Modelo matemático**: Primero podemos comparar cómo se distribuye el número de monedas para cada denominación, luego si asumimos que se distribuyen de forma normal, podemos crear una caja estadística para cada denominación, para analizar sus cuantiles."
      ],
      "metadata": {
        "id": "z2g-kPshHIKk"
      }
    },
    {
      "cell_type": "markdown",
      "source": [
        "#### Ejemplo: Cajas estadísticas\n",
        "\n",
        "Supongamos que consultamos a los alumnos del curso para determinar el número de monedas en las 4 denominaciones fijadas de $\\$1$ a $\\$10$ pesos, excluyendo otras denominaciones."
      ],
      "metadata": {
        "id": "zNW6SL1EOFge"
      }
    },
    {
      "cell_type": "code",
      "source": [
        "# 1. Construimos una matriz de conteos para el número de monedas\n",
        "# para cada denominación (columnas), de cada alumno (filas)\n",
        "monedas = [\n",
        "    [3, 2, 1, 0],\n",
        "    [2, 3, 5, 4],\n",
        "    [4, 1, 3, 4],\n",
        "    [8, 0, 1, 0],\n",
        "    [4, 0, 2, 0],\n",
        "    [3, 1, 1, 3],\n",
        "    [5, 2, 1, 0],\n",
        "    [1, 3, 0, 1],\n",
        "    [0, 4, 1, 0],\n",
        "    [6, 6, 0, 0],\n",
        "]\n",
        "\n",
        "# 2. Separamos cada columna para tener el número de monedas\n",
        "# para cada deniminación\n",
        "monedas1, monedas2, monedas5, monedas10 = zip(*monedas)\n",
        "\n",
        "# 3. Graficamos las cajas estadísticas de cada denominación\n",
        "import matplotlib.pyplot as pyplot\n",
        "\n",
        "pyplot.boxplot([monedas1, monedas2, monedas5, monedas10],\n",
        "               tick_labels=[\"$1\", \"$2\", \"$5\", \"$10\"])\n",
        "pyplot.show()"
      ],
      "metadata": {
        "colab": {
          "base_uri": "https://localhost:8080/",
          "height": 430
        },
        "id": "ZOAJA6eJOCQn",
        "outputId": "6c19a934-f9ca-4da1-ed9d-5664120d8896"
      },
      "execution_count": 462,
      "outputs": [
        {
          "output_type": "display_data",
          "data": {
            "text/plain": [
              "<Figure size 640x480 with 1 Axes>"
            ],
            "image/png": "[encoded data removed]"
          },
          "metadata": {}
        }
      ]
    },
    {
      "cell_type": "markdown",
      "source": [
        "Las cajas estadísticas nos dan una idea del comportamiento entre los cuantiles de cada serie, pero, si queremos los datos podemos usar"
      ],
      "metadata": {
        "id": "fqc6z-mnSMfy"
      }
    },
    {
      "cell_type": "code",
      "source": [
        "import numpy\n",
        "\n",
        "print(\"Moneda $1 peso\")\n",
        "print(\"-\" * 15)\n",
        "print(\"Min: \", numpy.min(monedas1))\n",
        "print(\"Q1 : \", numpy.quantile(monedas1, 0.25))\n",
        "print(\"Q2 : \", numpy.quantile(monedas1, 0.5))\n",
        "print(\"Q3 : \", numpy.quantile(monedas1, 0.75))\n",
        "print(\"Max: \", numpy.max(monedas1))"
      ],
      "metadata": {
        "colab": {
          "base_uri": "https://localhost:8080/",
          "height": 0
        },
        "id": "-OtrLXEcSUgW",
        "outputId": "55fc4195-1971-44d5-ddf6-d88fcb4868b2"
      },
      "execution_count": 463,
      "outputs": [
        {
          "output_type": "stream",
          "name": "stdout",
          "text": [
            "Moneda $1 peso\n",
            "---------------\n",
            "Min:  0\n",
            "Q1 :  2.25\n",
            "Q2 :  3.5\n",
            "Q3 :  4.75\n",
            "Max:  8\n"
          ]
        }
      ]
    },
    {
      "cell_type": "markdown",
      "source": [
        "### Problema 3 - Ganancias de un producto\n",
        "\n",
        "**Fenómeno**: Una tienda de abarrotes registró el monto total sobre las ventas de un producto y número de unidades vendidas, de las cuales tiene que calcular la ganancia sobre el precio establecido a principios del mes que considera el promedio del costo de adquisición del producto de las últimas 2 veces.\n",
        "\n",
        "**Plantemiento del problema**: ¿Cómo podemos calcular la ganancia del producto para el mes actual respecto al promedio del costo de adquisición de las últimas dos veces?.\n",
        "\n",
        "**Modelo matemático**: Primero tenemos que multiplicar el número de unidades vendidas por el costo promedio asignado, luego calcularemos la diferencia entre el monto total vendido, menos el costo promedio del producto."
      ],
      "metadata": {
        "id": "F7RJGorUN2Sl"
      }
    },
    {
      "cell_type": "markdown",
      "source": [
        "#### Ejemplo: Ganancia relativa\n",
        "\n",
        "Dado un monto total y un número de productos vendidos, así como los últimos dos precios de adquisición, calcularemos la ganancia relativa al promedio del costo de adquisición, esto tiene sentido si pensamos que el producto que se vende no modifica mucho su precio entre cada adquisición. Tomar el último precio podría reflejar una ganancia menor considerando que el producto pudo subir mucho de precio en la última adquisición, pero aún teníamos productos resagados de la penúltima adquisición."
      ],
      "metadata": {
        "id": "c1yYJbZAXNwo"
      }
    },
    {
      "cell_type": "code",
      "source": [
        "# 1. Definimos el monto total y cantidad de productos vendidos en todo el mes\n",
        "monto_total = 2300\n",
        "unidades_vendidas = 19\n",
        "\n",
        "# 2. Definimos los costos de adquisición del producto\n",
        "# para la última y penúltima adquisición (cuánto nos costó cada unidad)\n",
        "costo_1 = 75\n",
        "costo_2 = 84\n",
        "\n",
        "# 3. Determinamos el costo total fijadado\n",
        "# (costo de adquisición de cada producto)\n",
        "costo_unidad = (costo_1 + costo_2) / 2\n",
        "\n",
        "# 4. Calculamos el costo de adquisición por el número de productos vendidos\n",
        "# esto significa cuánto se descontará en promedio de todas las unidades\n",
        "# vendidas (lo que nos costaron todas las unidades pero de forma relativa)\n",
        "costo_total = costo_unidad * unidades_vendidas\n",
        "\n",
        "# 5. Calculamos la ganancia respecto al monto total\n",
        "ganancia = monto_total - costo_total\n",
        "\n",
        "# 6. Imprimimos un reporte\n",
        "print(\"Reporte de Ganancia relativa del producto\")\n",
        "print(\"-\" * 45)\n",
        "print(f\"Unidades vendidas :  {unidades_vendidas:9}\")\n",
        "print(f\"Total vendido     :  ${monto_total:8.2f}\")\n",
        "print(\"-\" * 45)\n",
        "print(f\"Costo promedio    :  ${costo_unidad:8.2f}\")\n",
        "print(f\"Costo total       :  ${costo_total:8.2f}\")\n",
        "print(\"-\" * 45)\n",
        "print(f\"Ganancia relativa :  ${ganancia:8.2f}\")\n",
        "print(f\"Ganancia (%)      :  {100 * ganancia/monto_total:8.2f}%\")"
      ],
      "metadata": {
        "colab": {
          "base_uri": "https://localhost:8080/",
          "height": 0
        },
        "id": "n6VjKWMgYBLq",
        "outputId": "e342bd06-0d4c-4bab-80d2-a320ec264f78"
      },
      "execution_count": 464,
      "outputs": [
        {
          "output_type": "stream",
          "name": "stdout",
          "text": [
            "Reporte de Ganancia relativa del producto\n",
            "---------------------------------------------\n",
            "Unidades vendidas :         19\n",
            "Total vendido     :  $ 2300.00\n",
            "---------------------------------------------\n",
            "Costo promedio    :  $   79.50\n",
            "Costo total       :  $ 1510.50\n",
            "---------------------------------------------\n",
            "Ganancia relativa :  $  789.50\n",
            "Ganancia (%)      :     34.33%\n"
          ]
        }
      ]
    },
    {
      "cell_type": "markdown",
      "source": [
        "## Introducción a la programación con Python\n",
        "\n",
        "Hasta ahora hemos visto 3 problemas del ámbito científico que podrían ser cercanos a nuestra realidad. Sin embargo, se ha mostrado mucho código que podría resultar extraño como leer chino.\n",
        "\n",
        "Aunque intentemos leer el código y entender algunas palabras, es fundamental aprender las estructuras lógicas que guian el código para poder entender su funcionamiento y poder hacer adaptaciones o reutilizarlo en otros problemas.\n",
        "\n",
        "Primero entenderemos cómo los lenguajes de programación se pueden aplicar en la vida cotidiana."
      ],
      "metadata": {
        "id": "eY8uKXLYbO2s"
      }
    },
    {
      "cell_type": "markdown",
      "source": [
        "### Los lenguajes de programación y la vida cotidiana\n",
        "\n",
        "Aunque no es muy evidente cómo un lenguaje de programación se presenta en nuestras actividades del día a día, están presentes por todos lados.\n",
        "\n",
        "Los lenguajes de programación son abstracciones de instrucciones, comandos y sentencias que dictan cómo una máquina debería hacer operaciones para resolver un problema.\n",
        "\n",
        "Pensemos en una máquina capaz de recibir cuatro tipos de instrucciones:\n",
        "\n",
        "* A - Avanzar un paso la máquina\n",
        "* B - girar la máquina 90° a la izquierda\n",
        "* C - Retroceder un paso la máquina\n",
        "* D - girar la máquina 90° a la derecha\n",
        "\n",
        "La máquina puede recibir una cinta finita de instrucciones y relizar una a una de forma secuencial, por ejemplo, si escribimos una cinta con $ABABABA$, la máquina avanzará un paso, dara un giro de 90° a la izquierda, luego volverá a avanzar un paso, después volverá a girar a la izquierda y así hasta completar todas las instrucciones.\n",
        "\n",
        "Entonces, si quisieramos guiar a la máquina hacia algún lugar, bastaría calcular si hay que avanzar, girar o retroceder. Cada que la máquina reciba una cinta de instrucciones ejecutará las operaciones asociadas."
      ],
      "metadata": {
        "id": "HX3-n-bMcHDa"
      }
    },
    {
      "cell_type": "markdown",
      "source": [
        "#### Ejemplo: Máquina que avanza y gira\n",
        "\n",
        "Veamos una implementación de la máquina que avanza y gira capaz de ejecutar una cinta de instrucciones"
      ],
      "metadata": {
        "id": "H3B039Uad1Ap"
      }
    },
    {
      "cell_type": "code",
      "source": [
        "# 1. Definimos las coordenadas iniciales de la máquina,\n",
        "# para reportar su posición tras cada actualización\n",
        "x, y = 0, 0\n",
        "\n",
        "# 2. Definimos la dirección hacia donde apunta la máquina\n",
        "# NORTE, SUR, ESTE u OESTE, por ejemplo, al avanzar\n",
        "# si está viendo al NORTE, la coordenada y incrementará\n",
        "d = \"NORTE\"\n",
        "\n",
        "# 3. Creamos una memoria para recordar las coordenadas de la máquina\n",
        "# en cada instrucción, inicializando la memoria en la primer coordenada\n",
        "# y guardamos también la dirección en la memoria\n",
        "memoria = [ (x, y, d) ]\n",
        "\n",
        "# 4. Definimos una función que representa a la máquina\n",
        "# y ejecuta una cinta de instrucciones, modificando\n",
        "# las coordenadas y dirección donde se encuentra y apunta\n",
        "def maquina(cinta, silencio = False):\n",
        "  global x, y, d\n",
        "  for i in cinta:\n",
        "    if not silencio:\n",
        "      print(f\"INICIO: ({x}, {y}) [{d:5}] -> EJECUTA {i}\")\n",
        "    if i == \"A\":\n",
        "      # Avanzar\n",
        "      if d == \"NORTE\":\n",
        "        y += 1\n",
        "      elif d == \"SUR\":\n",
        "        y -= 1\n",
        "      if d == \"ESTE\":\n",
        "        x += 1\n",
        "      elif d == \"OESTE\":\n",
        "        x -= 1\n",
        "    elif i == \"C\":\n",
        "      # Retroceder\n",
        "      if d == \"NORTE\":\n",
        "        y -= 1\n",
        "      elif d == \"SUR\":\n",
        "        y += 1\n",
        "      elif d == \"ESTE\":\n",
        "        x -= 1\n",
        "      elif d == \"OESTE\":\n",
        "        x += 1\n",
        "    elif i == \"B\":\n",
        "      # Girar izquierda\n",
        "      if d == \"NORTE\":\n",
        "        d = \"OESTE\"\n",
        "      elif d == \"SUR\":\n",
        "        d = \"ESTE\"\n",
        "      elif d == \"ESTE\":\n",
        "        d = \"NORTE\"\n",
        "      elif d == \"OESTE\":\n",
        "        d = \"SUR\"\n",
        "    elif i == \"D\":\n",
        "      # Girar derecha\n",
        "      if d == \"NORTE\":\n",
        "        d = \"ESTE\"\n",
        "      elif d == \"SUR\":\n",
        "        d = \"OESTE\"\n",
        "      elif d == \"ESTE\":\n",
        "        d = \"SUR\"\n",
        "      elif d == \"OESTE\":\n",
        "        d = \"NORTE\"\n",
        "    else:\n",
        "      if not silencio:\n",
        "        print(\">>> INSTRUCCIÓN NO VÁLIDA\")\n",
        "    if not silencio:\n",
        "      print(f\"FIN   : ({x}, {y}) [{d:5}]\")\n",
        "      print(\"-\" * 40)\n",
        "    memoria.append((x, y, d))\n",
        "\n",
        "# 5. Ejecutamos la máquina con una cinta de instrucciones\n",
        "maquina(\"ABCDEAABBCDDACDXDA\")"
      ],
      "metadata": {
        "colab": {
          "base_uri": "https://localhost:8080/",
          "height": 0
        },
        "id": "wloA_vi6eDQ0",
        "outputId": "30689f41-6961-4419-ea85-b92655b2d7a2"
      },
      "execution_count": 465,
      "outputs": [
        {
          "output_type": "stream",
          "name": "stdout",
          "text": [
            "INICIO: (0, 0) [NORTE] -> EJECUTA A\n",
            "FIN   : (0, 1) [NORTE]\n",
            "----------------------------------------\n",
            "INICIO: (0, 1) [NORTE] -> EJECUTA B\n",
            "FIN   : (0, 1) [OESTE]\n",
            "----------------------------------------\n",
            "INICIO: (0, 1) [OESTE] -> EJECUTA C\n",
            "FIN   : (1, 1) [OESTE]\n",
            "----------------------------------------\n",
            "INICIO: (1, 1) [OESTE] -> EJECUTA D\n",
            "FIN   : (1, 1) [NORTE]\n",
            "----------------------------------------\n",
            "INICIO: (1, 1) [NORTE] -> EJECUTA E\n",
            ">>> INSTRUCCIÓN NO VÁLIDA\n",
            "FIN   : (1, 1) [NORTE]\n",
            "----------------------------------------\n",
            "INICIO: (1, 1) [NORTE] -> EJECUTA A\n",
            "FIN   : (1, 2) [NORTE]\n",
            "----------------------------------------\n",
            "INICIO: (1, 2) [NORTE] -> EJECUTA A\n",
            "FIN   : (1, 3) [NORTE]\n",
            "----------------------------------------\n",
            "INICIO: (1, 3) [NORTE] -> EJECUTA B\n",
            "FIN   : (1, 3) [OESTE]\n",
            "----------------------------------------\n",
            "INICIO: (1, 3) [OESTE] -> EJECUTA B\n",
            "FIN   : (1, 3) [SUR  ]\n",
            "----------------------------------------\n",
            "INICIO: (1, 3) [SUR  ] -> EJECUTA C\n",
            "FIN   : (1, 4) [SUR  ]\n",
            "----------------------------------------\n",
            "INICIO: (1, 4) [SUR  ] -> EJECUTA D\n",
            "FIN   : (1, 4) [OESTE]\n",
            "----------------------------------------\n",
            "INICIO: (1, 4) [OESTE] -> EJECUTA D\n",
            "FIN   : (1, 4) [NORTE]\n",
            "----------------------------------------\n",
            "INICIO: (1, 4) [NORTE] -> EJECUTA A\n",
            "FIN   : (1, 5) [NORTE]\n",
            "----------------------------------------\n",
            "INICIO: (1, 5) [NORTE] -> EJECUTA C\n",
            "FIN   : (1, 4) [NORTE]\n",
            "----------------------------------------\n",
            "INICIO: (1, 4) [NORTE] -> EJECUTA D\n",
            "FIN   : (1, 4) [ESTE ]\n",
            "----------------------------------------\n",
            "INICIO: (1, 4) [ESTE ] -> EJECUTA X\n",
            ">>> INSTRUCCIÓN NO VÁLIDA\n",
            "FIN   : (1, 4) [ESTE ]\n",
            "----------------------------------------\n",
            "INICIO: (1, 4) [ESTE ] -> EJECUTA D\n",
            "FIN   : (1, 4) [SUR  ]\n",
            "----------------------------------------\n",
            "INICIO: (1, 4) [SUR  ] -> EJECUTA A\n",
            "FIN   : (1, 3) [SUR  ]\n",
            "----------------------------------------\n"
          ]
        }
      ]
    },
    {
      "cell_type": "markdown",
      "source": [
        "Para visualizar mejor la máquina, podemos crear una matriz que reconstruya en las coordenadas cómo se movió la máquina según su memoria"
      ],
      "metadata": {
        "id": "n9mnDFCQhPTN"
      }
    },
    {
      "cell_type": "code",
      "source": [
        "import numpy\n",
        "\n",
        "mat = numpy.zeros((5, 5))\n",
        "\n",
        "x, y = 0, 0\n",
        "d = \"NORTE\"\n",
        "memoria = [ (x, y, d) ]\n",
        "\n",
        "maquina(\"AAAADAAAADABCCCBCCDABADA\", silencio = True)\n",
        "\n",
        "i = 1\n",
        "for x, y, d in memoria:\n",
        "  mat[y, x] = i\n",
        "  i += 1\n",
        "\n",
        "print(mat)"
      ],
      "metadata": {
        "colab": {
          "base_uri": "https://localhost:8080/",
          "height": 0
        },
        "id": "TaY8SA6Qhu_f",
        "outputId": "f041575c-0f9b-4d53-b088-8dd203a4b483"
      },
      "execution_count": 466,
      "outputs": [
        {
          "output_type": "stream",
          "name": "stdout",
          "text": [
            "[[ 1.  0.  0.  0.  0.]\n",
            " [ 2. 20. 22.  0.  0.]\n",
            " [ 3. 18. 24. 25.  0.]\n",
            " [ 4. 17. 15. 14. 13.]\n",
            " [ 6.  7.  8.  9. 11.]]\n"
          ]
        }
      ]
    },
    {
      "cell_type": "markdown",
      "source": [
        "### Python en el ámbito científico\n",
        "\n",
        "Quizás los lenguajes de programación no aparezcan en nuestro día a día, pero seguramente aparecerá el lenguaje natural que hablamos o escribimos.\n",
        "\n",
        "Si recibimos un correo que diga:\n",
        "\n",
        "Querido empleado, se le solicita que entregue un reporte de sus actividades desarrolladas durante el més, para que concurse al bono del empleado más productivo. Se le adjunta en el correo una lista de las actividades que le fueron asignadas en el mes, por favor llene las casillas de las actividades que ya entregó y deje vacías las actividades que aún no completa o no se las ha envíado a su jefe inmediato (las que no ha reportado). Sin más, le deseo un buen día. Saludos cordiales.\n",
        "\n",
        "Seguramente descargaremos el archivo adjunto, revisaremos las actividades que ya le hemos enviado a nuestro jefe inmediato y rellenaremos las casillas, luego guardaremos el archivo y responderemos el correo adjuntando el archivo modificado.\n",
        "\n",
        "¿Dónde hay un lenguaje de programación oculto? Quizás no lo parezca, pero en el fondo de nuestro ser somos máquinas. Quizás máquinas biológicas, espirituales, racionales o alquímicas, el punto es que nuestros racionamientos y la forma en la que percibimos la realidad y respondemos al contexto nos vuelven máquinas.\n",
        "\n",
        "Para una máquina sintética como un robot o una computadora, es más díficil recibir y procesar las instrucciones, se necesita un lenguaje de programación que codifique las complejas instrucciones en estructuras con una sintaxis específica y compile o interprete cada instrucción para generar un código máquina capaz de ejecutar en su procesador.\n",
        "\n",
        "Para un humano es más sencillo, simplemente recibe una instrucción en un lenguaje natural, aproxima una idea de lo que significa esa instrucción y planifica una solución o simplemente dice: \"yo no entiendo nada\".\n",
        "\n",
        "Entender la sintaxis del lenguaje de programación, nos permitirá codificar instrucciones simples o complejas que resuelva la máquina. A una cinta de instrucciones la conoceremos como el programa o *script* y la máquina la entenderemos por el interprete.\n",
        "\n",
        "Nosotros aprenderemos a usar Python, el cual es un lenguaje de programación sencillo, flexible y potente, con el cual podemos manipular datos, crear algoritmos inteligentes y construir reportes gráficos y de texto para resolver problemas y automatizar nuestro día a día.\n",
        "\n",
        "Pero la pregunta es ¿Qué hace Python en el ámbito científico?\n",
        "\n",
        "La ciencia moderna requiere datos y los datos requieren memoria. De aquí parte el problema de la Ciencia de Datos. Para resolver un problema en la actualidad, se necesita transformar el problema a datos.\n",
        "\n",
        "Por ejemplo, ¿Cuál es la temperatura ideal que debe tener un reactor bioquímico para generar la máxima glucosa posible? \"*Yo no entiendo nada*\"\n",
        "\n",
        "Un biorreactor puede ser entendido como un bote de metal en el que se vierten sustancias como agua, azúcar, levadura o lo que se le ocurra al experimentador y a partir de esto genere alguna sustancia nueva, por ejemplo, glucosa, almidones o sustratos obtenidos de las reacciones químicas.\n",
        "\n",
        "Las reacciones químicas dentro del biorreactor requieren procedimientos específicos para que los compuestos logren formarse, como hornear un pastel, si aplicamos demasiada levadura, seguramente ocurrirá un caos, si la temperatura es muy baja seguramente el pastel nunca se horneará y si la temperatura es muy alta seguramente terminaremos pidiendo una pizza a domicilio.\n",
        "\n",
        "Entonces, ¿Cuál es la temperatura ideal que debe tener un reactor bioquímico para generar la máxima glucosa posible? Esta pregunta nos hace pensar que podemos modificar la temperatura del biorreactor o mantenerla constante. Para poder responder esta pregunta hace falta que tengamos experimentos y datos.\n",
        "\n",
        "¿Qué deberíamos medir en el biorrector? Entrada y salida es lo básico en una medición, pero a veces no es suficiente, muestras continuas cada cierto tiempo es lo ideal, pero muchas veces no podremos hacerlo porque ¿Cómo medimos lo que pasa en el biorreactor sin abrirlo, ni detener el proceso?\n",
        "\n",
        "Muchas veces, extraer los datos de experimentación será costo o casi imposible, pero, por eso nos pagan.\n",
        "\n",
        "Debemos ser sensibles que el problema podrá ser resuelto a través de datos, y que los datos serán costos y difíciles de extraer. Por esto mismo, debemos pensar siempre en cómo extraer correctamente los datos, si estos nos servirán y si son suficientes para dar una conclusión o resolver un problema (responder una pregunta).\n",
        "\n",
        "Generalmente, el fenómeno real explica una situación de cómo suceden las cosas que se observan (son los datos), el planteamiento del problema es una pregunta que se hace sobre el fenómeno observado (una respuesta que buscaremos resolver a través de los datos) y el modelo matemático consistirá en construir un proceso, algoritmo o máquina que nos dé la solución y podemos determinar que tan precisa es la solución y qué tan bien se ajusta a los datos nuestro modelo.\n",
        "\n",
        "El enfoque que daremos en este curso, será el de resolver problemas del ámbito científico, a través de la ciencia de datos, usando Python."
      ],
      "metadata": {
        "id": "MpCpu_BfkBfR"
      }
    },
    {
      "cell_type": "markdown",
      "source": [
        "#### Ejemplo: Antes de entender Python\n",
        "\n",
        "Aunque a estas alturas ya debes estar ansioso por aprender Python por alguna razón \"porque resuelve cosas\", es importante motivar aun más las aplicaciones de Python en el ámbito científico.\n",
        "\n",
        "En este ejemplo, vamos a tomar un problema clásico y aplicar lo visto en los 3 problemas científicos de esta sesión:\n",
        "\n",
        "1. Optimizar de forma aleatoria una solución\n",
        "2. Analizar el comportamiento en grupos de variables aleatorias\n",
        "3. Generar un reporte sobre el problema planteado\n",
        "\n",
        "Primero vamos a tomar un conjunto de datos (*dataset*) de la supervivencia en el hundimiento del Titanic.\n",
        "\n",
        "Luego, vamos a plantear el problema de comparar la supervivencia del titanic entre hombres y mujeres.\n",
        "\n",
        "Finalmente, vamos a crear un modelo matemático, para calcular la probabilidad de supervivencia general, la probabilidad de supervivencia dado que se es hombre o mujer y la probabilidad de ser mujer u hombre dado que se ha sobrevido o no."
      ],
      "metadata": {
        "id": "zXFiGnCSq8iL"
      }
    },
    {
      "cell_type": "markdown",
      "source": [
        "> **Paso 1**: Cargar los datos de supervivencia del titanic\n",
        "\n",
        "Aunque no hemos aprendido Python y hemos estado usando librerías de Ciencia de datos con Python, continuaremos para ver hasta donde llegamos y qué tanto entendemos"
      ],
      "metadata": {
        "id": "KqGPlMSAtiDp"
      }
    },
    {
      "cell_type": "code",
      "source": [
        "# Cargamos los datos del CSV con Pandas desde Github\n",
        "import pandas\n",
        "\n",
        "# URL donde se ubica el dataset\n",
        "url = \"https://github.com/dragonnomada\" + \\\n",
        "  \"/ipn-cic-pycien-abril-2025\" + \\\n",
        "  \"/raw/main\" + \\\n",
        "  \"/datasets/titanic.csv\"\n",
        "\n",
        "print(url)\n",
        "\n",
        "# Carga del DataFrame de Pandas\n",
        "titanic = pandas.read_csv(url)\n",
        "\n",
        "# Datos de interés\n",
        "data = titanic[[\"Sex\", \"Survived\"]]\n",
        "\n",
        "data"
      ],
      "metadata": {
        "colab": {
          "base_uri": "https://localhost:8080/",
          "height": 436
        },
        "id": "q9IBstLEtxa8",
        "outputId": "df7fb79e-2764-48e7-c39f-305babaa907c"
      },
      "execution_count": 467,
      "outputs": [
        {
          "output_type": "stream",
          "name": "stdout",
          "text": [
            "https://github.com/dragonnomada/ipn-cic-pycien-abril-2025/raw/main/datasets/titanic.csv\n"
          ]
        },
        {
          "output_type": "execute_result",
          "data": {
            "text/plain": [
              "        Sex  Survived\n",
              "0      male         0\n",
              "1    female         1\n",
              "2    female         1\n",
              "3    female         1\n",
              "4      male         0\n",
              "..      ...       ...\n",
              "886    male         0\n",
              "887  female         1\n",
              "888  female         0\n",
              "889    male         1\n",
              "890    male         0\n",
              "\n",
              "[891 rows x 2 columns]"
            ],
            "text/html": [
              "\n",
              "  <div id=\"df-2b7eebad-aed4-4bfc-8e6b-1985605f05b5\" class=\"colab-df-container\">\n",
              "    <div>\n",
              "<style scoped>\n",
              "    .dataframe tbody tr th:only-of-type {\n",
              "        vertical-align: middle;\n",
              "    }\n",
              "\n",
              "    .dataframe tbody tr th {\n",
              "        vertical-align: top;\n",
              "    }\n",
              "\n",
              "    .dataframe thead th {\n",
              "        text-align: right;\n",
              "    }\n",
              "</style>\n",
              "<table border=\"1\" class=\"dataframe\">\n",
              "  <thead>\n",
              "    <tr style=\"text-align: right;\">\n",
              "      <th></th>\n",
              "      <th>Sex</th>\n",
              "      <th>Survived</th>\n",
              "    </tr>\n",
              "  </thead>\n",
              "  <tbody>\n",
              "    <tr>\n",
              "      <th>0</th>\n",
              "      <td>male</td>\n",
              "      <td>0</td>\n",
              "    </tr>\n",
              "    <tr>\n",
              "      <th>1</th>\n",
              "      <td>female</td>\n",
              "      <td>1</td>\n",
              "    </tr>\n",
              "    <tr>\n",
              "      <th>2</th>\n",
              "      <td>female</td>\n",
              "      <td>1</td>\n",
              "    </tr>\n",
              "    <tr>\n",
              "      <th>3</th>\n",
              "      <td>female</td>\n",
              "      <td>1</td>\n",
              "    </tr>\n",
              "    <tr>\n",
              "      <th>4</th>\n",
              "      <td>male</td>\n",
              "      <td>0</td>\n",
              "    </tr>\n",
              "    <tr>\n",
              "      <th>...</th>\n",
              "      <td>...</td>\n",
              "      <td>...</td>\n",
              "    </tr>\n",
              "    <tr>\n",
              "      <th>886</th>\n",
              "      <td>male</td>\n",
              "      <td>0</td>\n",
              "    </tr>\n",
              "    <tr>\n",
              "      <th>887</th>\n",
              "      <td>female</td>\n",
              "      <td>1</td>\n",
              "    </tr>\n",
              "    <tr>\n",
              "      <th>888</th>\n",
              "      <td>female</td>\n",
              "      <td>0</td>\n",
              "    </tr>\n",
              "    <tr>\n",
              "      <th>889</th>\n",
              "      <td>male</td>\n",
              "      <td>1</td>\n",
              "    </tr>\n",
              "    <tr>\n",
              "      <th>890</th>\n",
              "      <td>male</td>\n",
              "      <td>0</td>\n",
              "    </tr>\n",
              "  </tbody>\n",
              "</table>\n",
              "<p>891 rows × 2 columns</p>\n",
              "</div>\n",
              "    <div class=\"colab-df-buttons\">\n",
              "\n",
              "  <div class=\"colab-df-container\">\n",
              "    <button class=\"colab-df-convert\" onclick=\"convertToInteractive('df-2b7eebad-aed4-4bfc-8e6b-1985605f05b5')\"\n",
              "            title=\"Convert this dataframe to an interactive table.\"\n",
              "            style=\"display:none;\">\n",
              "\n",
              "  <svg xmlns=\"http://www.w3.org/2000/svg\" height=\"24px\" viewBox=\"0 -960 960 960\">\n",
              "    <path d=\"M120-120v-720h720v720H120Zm60-500h600v-160H180v160Zm220 220h160v-160H400v160Zm0 220h160v-160H400v160ZM180-400h160v-160H180v160Zm440 0h160v-160H620v160ZM180-180h160v-160H180v160Zm440 0h160v-160H620v160Z\"/>\n",
              "  </svg>\n",
              "    </button>\n",
              "\n",
              "  <style>\n",
              "    .colab-df-container {\n",
              "      display:flex;\n",
              "      gap: 12px;\n",
              "    }\n",
              "\n",
              "    .colab-df-convert {\n",
              "      background-color: #E8F0FE;\n",
              "      border: none;\n",
              "      border-radius: 50%;\n",
              "      cursor: pointer;\n",
              "      display: none;\n",
              "      fill: #1967D2;\n",
              "      height: 32px;\n",
              "      padding: 0 0 0 0;\n",
              "      width: 32px;\n",
              "    }\n",
              "\n",
              "    .colab-df-convert:hover {\n",
              "      background-color: #E2EBFA;\n",
              "      box-shadow: 0px 1px 2px rgba(60, 64, 67, 0.3), 0px 1px 3px 1px rgba(60, 64, 67, 0.15);\n",
              "      fill: #174EA6;\n",
              "    }\n",
              "\n",
              "    .colab-df-buttons div {\n",
              "      margin-bottom: 4px;\n",
              "    }\n",
              "\n",
              "    [theme=dark] .colab-df-convert {\n",
              "      background-color: #3B4455;\n",
              "      fill: #D2E3FC;\n",
              "    }\n",
              "\n",
              "    [theme=dark] .colab-df-convert:hover {\n",
              "      background-color: #434B5C;\n",
              "      box-shadow: 0px 1px 3px 1px rgba(0, 0, 0, 0.15);\n",
              "      filter: drop-shadow(0px 1px 2px rgba(0, 0, 0, 0.3));\n",
              "      fill: #FFFFFF;\n",
              "    }\n",
              "  </style>\n",
              "\n",
              "    <script>\n",
              "      const buttonEl =\n",
              "        document.querySelector('#df-2b7eebad-aed4-4bfc-8e6b-1985605f05b5 button.colab-df-convert');\n",
              "      buttonEl.style.display =\n",
              "        google.colab.kernel.accessAllowed ? 'block' : 'none';\n",
              "\n",
              "      async function convertToInteractive(key) {\n",
              "        const element = document.querySelector('#df-2b7eebad-aed4-4bfc-8e6b-1985605f05b5');\n",
              "        const dataTable =\n",
              "          await google.colab.kernel.invokeFunction('convertToInteractive',\n",
              "                                                    [key], {});\n",
              "        if (!dataTable) return;\n",
              "\n",
              "        const docLinkHtml = 'Like what you see? Visit the ' +\n",
              "          '<a target=\"_blank\" href=https://colab.research.google.com/notebooks/data_table.ipynb>data table notebook</a>'\n",
              "          + ' to learn more about interactive tables.';\n",
              "        element.innerHTML = '';\n",
              "        dataTable['output_type'] = 'display_data';\n",
              "        await google.colab.output.renderOutput(dataTable, element);\n",
              "        const docLink = document.createElement('div');\n",
              "        docLink.innerHTML = docLinkHtml;\n",
              "        element.appendChild(docLink);\n",
              "      }\n",
              "    </script>\n",
              "  </div>\n",
              "\n",
              "\n",
              "<div id=\"df-8108d91d-b723-449d-941a-db9f90621a30\">\n",
              "  <button class=\"colab-df-quickchart\" onclick=\"quickchart('df-8108d91d-b723-449d-941a-db9f90621a30')\"\n",
              "            title=\"Suggest charts\"\n",
              "            style=\"display:none;\">\n",
              "\n",
              "<svg xmlns=\"http://www.w3.org/2000/svg\" height=\"24px\"viewBox=\"0 0 24 24\"\n",
              "     width=\"24px\">\n",
              "    <g>\n",
              "        <path d=\"M19 3H5c-1.1 0-2 .9-2 2v14c0 1.1.9 2 2 2h14c1.1 0 2-.9 2-2V5c0-1.1-.9-2-2-2zM9 17H7v-7h2v7zm4 0h-2V7h2v10zm4 0h-2v-4h2v4z\"/>\n",
              "    </g>\n",
              "</svg>\n",
              "  </button>\n",
              "\n",
              "<style>\n",
              "  .colab-df-quickchart {\n",
              "      --bg-color: #E8F0FE;\n",
              "      --fill-color: #1967D2;\n",
              "      --hover-bg-color: #E2EBFA;\n",
              "      --hover-fill-color: #174EA6;\n",
              "      --disabled-fill-color: #AAA;\n",
              "      --disabled-bg-color: #DDD;\n",
              "  }\n",
              "\n",
              "  [theme=dark] .colab-df-quickchart {\n",
              "      --bg-color: #3B4455;\n",
              "      --fill-color: #D2E3FC;\n",
              "      --hover-bg-color: #434B5C;\n",
              "      --hover-fill-color: #FFFFFF;\n",
              "      --disabled-bg-color: #3B4455;\n",
              "      --disabled-fill-color: #666;\n",
              "  }\n",
              "\n",
              "  .colab-df-quickchart {\n",
              "    background-color: var(--bg-color);\n",
              "    border: none;\n",
              "    border-radius: 50%;\n",
              "    cursor: pointer;\n",
              "    display: none;\n",
              "    fill: var(--fill-color);\n",
              "    height: 32px;\n",
              "    padding: 0;\n",
              "    width: 32px;\n",
              "  }\n",
              "\n",
              "  .colab-df-quickchart:hover {\n",
              "    background-color: var(--hover-bg-color);\n",
              "    box-shadow: 0 1px 2px rgba(60, 64, 67, 0.3), 0 1px 3px 1px rgba(60, 64, 67, 0.15);\n",
              "    fill: var(--button-hover-fill-color);\n",
              "  }\n",
              "\n",
              "  .colab-df-quickchart-complete:disabled,\n",
              "  .colab-df-quickchart-complete:disabled:hover {\n",
              "    background-color: var(--disabled-bg-color);\n",
              "    fill: var(--disabled-fill-color);\n",
              "    box-shadow: none;\n",
              "  }\n",
              "\n",
              "  .colab-df-spinner {\n",
              "    border: 2px solid var(--fill-color);\n",
              "    border-color: transparent;\n",
              "    border-bottom-color: var(--fill-color);\n",
              "    animation:\n",
              "      spin 1s steps(1) infinite;\n",
              "  }\n",
              "\n",
              "  @keyframes spin {\n",
              "    0% {\n",
              "      border-color: transparent;\n",
              "      border-bottom-color: var(--fill-color);\n",
              "      border-left-color: var(--fill-color);\n",
              "    }\n",
              "    20% {\n",
              "      border-color: transparent;\n",
              "      border-left-color: var(--fill-color);\n",
              "      border-top-color: var(--fill-color);\n",
              "    }\n",
              "    30% {\n",
              "      border-color: transparent;\n",
              "      border-left-color: var(--fill-color);\n",
              "      border-top-color: var(--fill-color);\n",
              "      border-right-color: var(--fill-color);\n",
              "    }\n",
              "    40% {\n",
              "      border-color: transparent;\n",
              "      border-right-color: var(--fill-color);\n",
              "      border-top-color: var(--fill-color);\n",
              "    }\n",
              "    60% {\n",
              "      border-color: transparent;\n",
              "      border-right-color: var(--fill-color);\n",
              "    }\n",
              "    80% {\n",
              "      border-color: transparent;\n",
              "      border-right-color: var(--fill-color);\n",
              "      border-bottom-color: var(--fill-color);\n",
              "    }\n",
              "    90% {\n",
              "      border-color: transparent;\n",
              "      border-bottom-color: var(--fill-color);\n",
              "    }\n",
              "  }\n",
              "</style>\n",
              "\n",
              "  <script>\n",
              "    async function quickchart(key) {\n",
              "      const quickchartButtonEl =\n",
              "        document.querySelector('#' + key + ' button');\n",
              "      quickchartButtonEl.disabled = true;  // To prevent multiple clicks.\n",
              "      quickchartButtonEl.classList.add('colab-df-spinner');\n",
              "      try {\n",
              "        const charts = await google.colab.kernel.invokeFunction(\n",
              "            'suggestCharts', [key], {});\n",
              "      } catch (error) {\n",
              "        console.error('Error during call to suggestCharts:', error);\n",
              "      }\n",
              "      quickchartButtonEl.classList.remove('colab-df-spinner');\n",
              "      quickchartButtonEl.classList.add('colab-df-quickchart-complete');\n",
              "    }\n",
              "    (() => {\n",
              "      let quickchartButtonEl =\n",
              "        document.querySelector('#df-8108d91d-b723-449d-941a-db9f90621a30 button');\n",
              "      quickchartButtonEl.style.display =\n",
              "        google.colab.kernel.accessAllowed ? 'block' : 'none';\n",
              "    })();\n",
              "  </script>\n",
              "</div>\n",
              "\n",
              "  <div id=\"id_eadadfd9-9005-422c-84c1-24f79c7ae0a4\">\n",
              "    <style>\n",
              "      .colab-df-generate {\n",
              "        background-color: #E8F0FE;\n",
              "        border: none;\n",
              "        border-radius: 50%;\n",
              "        cursor: pointer;\n",
              "        display: none;\n",
              "        fill: #1967D2;\n",
              "        height: 32px;\n",
              "        padding: 0 0 0 0;\n",
              "        width: 32px;\n",
              "      }\n",
              "\n",
              "      .colab-df-generate:hover {\n",
              "        background-color: #E2EBFA;\n",
              "        box-shadow: 0px 1px 2px rgba(60, 64, 67, 0.3), 0px 1px 3px 1px rgba(60, 64, 67, 0.15);\n",
              "        fill: #174EA6;\n",
              "      }\n",
              "\n",
              "      [theme=dark] .colab-df-generate {\n",
              "        background-color: #3B4455;\n",
              "        fill: #D2E3FC;\n",
              "      }\n",
              "\n",
              "      [theme=dark] .colab-df-generate:hover {\n",
              "        background-color: #434B5C;\n",
              "        box-shadow: 0px 1px 3px 1px rgba(0, 0, 0, 0.15);\n",
              "        filter: drop-shadow(0px 1px 2px rgba(0, 0, 0, 0.3));\n",
              "        fill: #FFFFFF;\n",
              "      }\n",
              "    </style>\n",
              "    <button class=\"colab-df-generate\" onclick=\"generateWithVariable('data')\"\n",
              "            title=\"Generate code using this dataframe.\"\n",
              "            style=\"display:none;\">\n",
              "\n",
              "  <svg xmlns=\"http://www.w3.org/2000/svg\" height=\"24px\"viewBox=\"0 0 24 24\"\n",
              "       width=\"24px\">\n",
              "    <path d=\"M7,19H8.4L18.45,9,17,7.55,7,17.6ZM5,21V16.75L18.45,3.32a2,2,0,0,1,2.83,0l1.4,1.43a1.91,1.91,0,0,1,.58,1.4,1.91,1.91,0,0,1-.58,1.4L9.25,21ZM18.45,9,17,7.55Zm-12,3A5.31,5.31,0,0,0,4.9,8.1,5.31,5.31,0,0,0,1,6.5,5.31,5.31,0,0,0,4.9,4.9,5.31,5.31,0,0,0,6.5,1,5.31,5.31,0,0,0,8.1,4.9,5.31,5.31,0,0,0,12,6.5,5.46,5.46,0,0,0,6.5,12Z\"/>\n",
              "  </svg>\n",
              "    </button>\n",
              "    <script>\n",
              "      (() => {\n",
              "      const buttonEl =\n",
              "        document.querySelector('#id_eadadfd9-9005-422c-84c1-24f79c7ae0a4 button.colab-df-generate');\n",
              "      buttonEl.style.display =\n",
              "        google.colab.kernel.accessAllowed ? 'block' : 'none';\n",
              "\n",
              "      buttonEl.onclick = () => {\n",
              "        google.colab.notebook.generateWithVariable('data');\n",
              "      }\n",
              "      })();\n",
              "    </script>\n",
              "  </div>\n",
              "\n",
              "    </div>\n",
              "  </div>\n"
            ],
            "application/vnd.google.colaboratory.intrinsic+json": {
              "type": "dataframe",
              "variable_name": "data",
              "summary": "{\n  \"name\": \"data\",\n  \"rows\": 891,\n  \"fields\": [\n    {\n      \"column\": \"Sex\",\n      \"properties\": {\n        \"dtype\": \"category\",\n        \"num_unique_values\": 2,\n        \"samples\": [\n          \"female\",\n          \"male\"\n        ],\n        \"semantic_type\": \"\",\n        \"description\": \"\"\n      }\n    },\n    {\n      \"column\": \"Survived\",\n      \"properties\": {\n        \"dtype\": \"number\",\n        \"std\": 0,\n        \"min\": 0,\n        \"max\": 1,\n        \"num_unique_values\": 2,\n        \"samples\": [\n          1,\n          0\n        ],\n        \"semantic_type\": \"\",\n        \"description\": \"\"\n      }\n    }\n  ]\n}"
            }
          },
          "metadata": {},
          "execution_count": 467
        }
      ]
    },
    {
      "cell_type": "markdown",
      "source": [
        "> **Paso 2** - Analizar los datos\n",
        "\n",
        "Para analizar cómo se comporta la supervivencia por sexo, generaremos diferentes visualizaciones y reportes."
      ],
      "metadata": {
        "id": "GMGu6zT3wRCL"
      }
    },
    {
      "cell_type": "markdown",
      "source": [
        "Primero segmentamos los datos para mujeres y hombres, y visualizamos su supervivencia mediante una gráfica de violín, la cual muestra dónde están las concentraciones o densidad de los datos de forma simétrica"
      ],
      "metadata": {
        "id": "eP5kaQFkw6tk"
      }
    },
    {
      "cell_type": "code",
      "source": [
        "# 1. Proporción de la supervivencia por sexo\n",
        "\n",
        "data_mujeres = data[ data[\"Sex\"] == \"female\" ]\n",
        "data_hombres = data[ data[\"Sex\"] == \"male\"   ]\n",
        "\n",
        "import matplotlib.pyplot as pyplot\n",
        "\n",
        "figure, axis = pyplot.subplots()\n",
        "\n",
        "axis.violinplot([data_mujeres[\"Survived\"], data_hombres[\"Survived\"]])\n",
        "axis.set_xticks([1, 2])\n",
        "axis.set_xticklabels([\"Mujeres\", \"Hombres\"])\n",
        "pyplot.show()"
      ],
      "metadata": {
        "colab": {
          "base_uri": "https://localhost:8080/",
          "height": 430
        },
        "id": "ynRxVzSiwlg1",
        "outputId": "27985b31-4c2f-4c12-810d-fd098fd7bf03"
      },
      "execution_count": 468,
      "outputs": [
        {
          "output_type": "display_data",
          "data": {
            "text/plain": [
              "<Figure size 640x480 with 1 Axes>"
            ],
            "image/png": "[encoded data removed]"
          },
          "metadata": {}
        }
      ]
    },
    {
      "cell_type": "markdown",
      "source": [
        "En la gráfica se ve cómo la supervivencia de mujeres es mayor que la no-supervivencia, contrario a los hombres."
      ],
      "metadata": {
        "id": "fg2W8uftx71z"
      }
    },
    {
      "cell_type": "markdown",
      "source": [
        "Obtenemos las probabilidades generales de sobrevivir y no-sobrevivir para hombres y mujeres y las reportamos."
      ],
      "metadata": {
        "id": "07DRNMmjyiAj"
      }
    },
    {
      "cell_type": "code",
      "source": [
        "total_mujeres = data_mujeres[\"Survived\"].count()\n",
        "total_mujeres_sobreviven = data_mujeres[\"Survived\"].sum()\n",
        "total_mujeres_no_sobreviven = total_mujeres - data_mujeres[\"Survived\"].sum()\n",
        "\n",
        "total_hombres = data_hombres[\"Survived\"].count()\n",
        "total_hombres_sobreviven = data_hombres[\"Survived\"].sum()\n",
        "total_hombres_no_sobreviven = total_hombres - data_hombres[\"Survived\"].sum()\n",
        "\n",
        "total_sobreviven = total_mujeres_sobreviven + total_hombres_sobreviven\n",
        "total_no_sobreviven = total_mujeres_no_sobreviven + total_hombres_no_sobreviven\n",
        "\n",
        "total = total_sobreviven + total_no_sobreviven\n",
        "\n",
        "print(\"Conteos de supervivencia de hombres y mujeres\")\n",
        "print(\"=\" * 50)\n",
        "print(\"          Sobrevive      No-Sobrevive      Total\")\n",
        "print(\"-\" * 50)\n",
        "print(f\"Mujeres   {total_mujeres_sobreviven:6} {total_mujeres_no_sobreviven:15} {total_mujeres:14}\")\n",
        "print(f\"Hombres   {total_hombres_sobreviven:6} {total_hombres_no_sobreviven:15} {total_hombres:14}\")\n",
        "print(\"-\" * 50)\n",
        "print(f\"Total     {total_sobreviven:6} {total_no_sobreviven:15} {total:14}\")"
      ],
      "metadata": {
        "colab": {
          "base_uri": "https://localhost:8080/",
          "height": 0
        },
        "id": "x-lIqvNWyxwo",
        "outputId": "cf3590f0-2381-4600-930f-6cf36680bfde"
      },
      "execution_count": 469,
      "outputs": [
        {
          "output_type": "stream",
          "name": "stdout",
          "text": [
            "Conteos de supervivencia de hombres y mujeres\n",
            "==================================================\n",
            "          Sobrevive      No-Sobrevive      Total\n",
            "--------------------------------------------------\n",
            "Mujeres      233              81            314\n",
            "Hombres      109             468            577\n",
            "--------------------------------------------------\n",
            "Total        342             549            891\n"
          ]
        }
      ]
    },
    {
      "cell_type": "markdown",
      "source": [
        "Ahora sabemos que de 891 personas, 314 eran mujeres y 577 eran hombres, además 233 mujeres sobrevivieron y 81 no, mientras que 109 hombres sobrevivieron y 468 no lo hicieron, es decir, que 342 personas lograron sobrevivir, mientras que 549 no lo lograron.\n",
        "\n",
        "Pero, ¿Cómo es la probabilidad de supervivencia?"
      ],
      "metadata": {
        "id": "_7ta2qljyqS0"
      }
    },
    {
      "cell_type": "markdown",
      "source": [
        "Ahora calcularemos las probabilidades de supervivencia y las reportaremos"
      ],
      "metadata": {
        "id": "k44Kq_bk1Qkh"
      }
    },
    {
      "cell_type": "code",
      "source": [
        "# Probabilidad de ser mujer - P(M)\n",
        "pM = total_mujeres / total\n",
        "# Probabilidad de ser mujer y sobrevivir - P(M,S)\n",
        "pMS = total_mujeres_sobreviven / total\n",
        "# Probabilidad de ser mujer y no-sobrevivir - P(M,X)\n",
        "pMX = total_mujeres_no_sobreviven / total\n",
        "\n",
        "# Probabilidad de ser hombre - P(H)\n",
        "pH = total_hombres / total\n",
        "# Probabilidad de ser hombre y sobrevivir - P(H,S)\n",
        "pHS = total_hombres_sobreviven / total\n",
        "# Probabilidad de ser hombre y no-sobrevivir - P(H,X)\n",
        "pHX = total_hombres_no_sobreviven / total\n",
        "\n",
        "# Probabilidad de sobrevivir - P(S)\n",
        "pS = total_sobreviven / total\n",
        "# Probabilidad de no-sobrevivir - P(X)\n",
        "pX = total_no_sobreviven / total\n",
        "\n",
        "print(\"Probabilidad conjunta de supervivencia\")\n",
        "print(\"=\" * 50)\n",
        "print(\"          Sobrevive      No-Sobrevive      Total\")\n",
        "print(\"-\" * 50)\n",
        "print(f\"Mujeres   {100 * pMS:6.2f}% {100 * pMX:15.2f}% {100 * pM:13.2f}%\")\n",
        "print(f\"Hombres   {100 * pHS:6.2f}% {100 * pHX:15.2f}% {100 * pH:13.2f}%\")\n",
        "print(\"-\" * 50)\n",
        "print(f\"Total     {100 * pS:6.2f}% {100 * pX:15.2f}% {100:13.2f}%\")"
      ],
      "metadata": {
        "colab": {
          "base_uri": "https://localhost:8080/",
          "height": 0
        },
        "id": "2y1lROro1XIq",
        "outputId": "9dc9adab-c6fa-41b7-cd52-8203d615f47d"
      },
      "execution_count": 470,
      "outputs": [
        {
          "output_type": "stream",
          "name": "stdout",
          "text": [
            "Probabilidad conjunta de supervivencia\n",
            "==================================================\n",
            "          Sobrevive      No-Sobrevive      Total\n",
            "--------------------------------------------------\n",
            "Mujeres    26.15%            9.09%         35.24%\n",
            "Hombres    12.23%           52.53%         64.76%\n",
            "--------------------------------------------------\n",
            "Total      38.38%           61.62%        100.00%\n"
          ]
        }
      ]
    },
    {
      "cell_type": "markdown",
      "source": [
        "Ahora podemos apreciar mejor los datos en probabilidades, por ejemplo, la probabilidad de que una persona haya sobrevivido si era mujer es de $26.15$%.\n",
        "\n",
        "Pero, ¿Cuáles son las probabilidades reales de supervivencia y no-supervivencia?"
      ],
      "metadata": {
        "id": "R9EXEuRh2dVY"
      }
    },
    {
      "cell_type": "markdown",
      "source": [
        "Ahora calcularemos las probabilidades condicionales usando la probabilidad conjunta y el Teorema de Bayes."
      ],
      "metadata": {
        "id": "DBau2lTK20_R"
      }
    },
    {
      "cell_type": "code",
      "source": [
        "print(\"Probabilidad de Sobrevivir dado que la persona fue Mujer\")\n",
        "print(f\"P(S | M) = {100 * pMS / pM:.2f}%\")\n",
        "\n",
        "print(\"=\" * 60)\n",
        "\n",
        "print(\"Probabilidad de Sobrevivir dado que la persona fue Hombre\")\n",
        "print(f\"P(S | H) = {100 * pHS / pH:.2f}%\")\n",
        "\n",
        "print(\"=\" * 60)\n",
        "\n",
        "print(\"Probabilidad de No-Sobrevivir dado que la persona fue Mujer\")\n",
        "print(f\"P(X | M) = {100 * pMX / pM:.2f}%\")\n",
        "\n",
        "print(\"=\" * 60)\n",
        "\n",
        "print(\"Probabilidad de No-Sobrevivir dado que la persona fue Hombre\")\n",
        "print(f\"P(X | H) = {100 * pHX / pH:.2f}%\")\n",
        "\n",
        "print(\"=\" * 60)\n",
        "\n",
        "print(\"Probabilidad de ser Mujer dado que la persona Sobrevivió\")\n",
        "print(f\"P(M | S) = {100 * pMS / pS:.2f}%\")\n",
        "\n",
        "print(\"=\" * 60)\n",
        "\n",
        "print(\"Probabilidad de ser Hombre dado que la persona Sobrevivió\")\n",
        "print(f\"P(H | S) = {100 * pHS / pS:.2f}%\")\n",
        "\n",
        "print(\"=\" * 60)\n",
        "\n",
        "print(\"Probabilidad de ser Mujer dado que la persona No-Sobrevivió\")\n",
        "print(f\"P(M | X) = {100 * pMX / pX:.2f}%\")\n",
        "\n",
        "print(\"=\" * 60)\n",
        "\n",
        "print(\"Probabilidad de ser Hombre dado que la persona No-Sobrevivió\")\n",
        "print(f\"P(H | X) = {100 * pHX / pX:.2f}%\")"
      ],
      "metadata": {
        "colab": {
          "base_uri": "https://localhost:8080/",
          "height": 0
        },
        "id": "yAcd3Siv20Re",
        "outputId": "84b6a3be-91a2-4b3d-f798-40186c029af9"
      },
      "execution_count": 471,
      "outputs": [
        {
          "output_type": "stream",
          "name": "stdout",
          "text": [
            "Probabilidad de Sobrevivir dado que la persona fue Mujer\n",
            "P(S | M) = 74.20%\n",
            "============================================================\n",
            "Probabilidad de Sobrevivir dado que la persona fue Hombre\n",
            "P(S | H) = 18.89%\n",
            "============================================================\n",
            "Probabilidad de No-Sobrevivir dado que la persona fue Mujer\n",
            "P(X | M) = 25.80%\n",
            "============================================================\n",
            "Probabilidad de No-Sobrevivir dado que la persona fue Hombre\n",
            "P(X | H) = 81.11%\n",
            "============================================================\n",
            "Probabilidad de ser Mujer dado que la persona Sobrevivió\n",
            "P(M | S) = 68.13%\n",
            "============================================================\n",
            "Probabilidad de ser Hombre dado que la persona Sobrevivió\n",
            "P(H | S) = 31.87%\n",
            "============================================================\n",
            "Probabilidad de ser Mujer dado que la persona No-Sobrevivió\n",
            "P(M | X) = 14.75%\n",
            "============================================================\n",
            "Probabilidad de ser Hombre dado que la persona No-Sobrevivió\n",
            "P(H | X) = 85.25%\n"
          ]
        }
      ]
    },
    {
      "cell_type": "markdown",
      "source": [
        "Estas probabilidades reflejan la probabilidad real de supervivencia entre hombres y mujeres, por ejemplo, la probabilidad de que una persona que sobrevivió fuera mujer es del $68.13$%, lo que indica que casi 7 de cada 10 sobrevivientes fueron mujeres, quiénes tuvieron prioridad, mientras que la probabilidad de que una persona que no sobrevivió fuera hombre es del $85.25$%, lo que indica que aproximadamente 17 de cada 20 personas que no sobrevieron fueron hombres.\n",
        "\n",
        "Además de los superviventes, solo el $20$% fueron hombres."
      ],
      "metadata": {
        "id": "V_A0HusW4PuZ"
      }
    },
    {
      "cell_type": "markdown",
      "source": [
        "Ahora podemos graficar las probabilidades comparativas usando gráficas de pastel."
      ],
      "metadata": {
        "id": "S3zmKFgf5_Mw"
      }
    },
    {
      "cell_type": "code",
      "source": [
        "figure, axis = pyplot.subplots(2, 2)\n",
        "\n",
        "axis[0, 0].pie([pM, pH], labels=[\"Mujeres\", \"Hombres\"],\n",
        "           colors=[\"deeppink\", \"royalblue\"], autopct=\"%.1f%%\")\n",
        "axis[0, 0].set_xlabel(\"Proporción del Género\")\n",
        "\n",
        "axis[0, 1].pie([pS, pX], labels=[\"Sobrevive\", \"No-Sobrevive\"],\n",
        "           colors=[\"yellow\", \"gray\"], autopct=\"%.1f%%\")\n",
        "axis[0, 1].set_xlabel(\"Proporción de Supervivencia\")\n",
        "\n",
        "axis[1, 0].pie([pMS / pS, pHS / pS], labels=[\"Mujeres\", \"Hombres\"],\n",
        "           colors=[\"hotpink\", \"cornflowerblue\"], autopct=\"%.1f%%\")\n",
        "axis[1, 0].set_xlabel(\"Género de los sobrevivientes\")\n",
        "\n",
        "axis[1, 1].pie([pMX / pX, pHX / pX], labels=[\"Mujeres\", \"Hombres\"],\n",
        "           colors=[\"lightpink\", \"lightblue\"], autopct=\"%.1f%%\")\n",
        "axis[1, 1].set_xlabel(\"Género de los que no sobreviven\")\n",
        "\n",
        "pyplot.show()"
      ],
      "metadata": {
        "colab": {
          "base_uri": "https://localhost:8080/",
          "height": 426
        },
        "id": "tsyXQ4yS6KK3",
        "outputId": "8c91fe38-d068-4355-db73-116de5be5946"
      },
      "execution_count": 472,
      "outputs": [
        {
          "output_type": "display_data",
          "data": {
            "text/plain": [
              "<Figure size 640x480 with 4 Axes>"
            ],
            "image/png": "[encoded data removed]"
          },
          "metadata": {}
        }
      ]
    },
    {
      "cell_type": "markdown",
      "source": [
        "Ahora podemos entender las probabilidades de ser hombre y mujer, así como de sobrevivir y no hacerlo.\n",
        "\n",
        "Pero, ¿Podemos predecir si un hombre o mujer sobrevivirá?"
      ],
      "metadata": {
        "id": "2FEkq37R-mWp"
      }
    },
    {
      "cell_type": "markdown",
      "source": [
        "Aunque ya sabemos las probabilidades reales, muchas veces calcular estas probabilidades serán más difíciles que entrenar un modelo que prediga las probabilidades.\n",
        "\n",
        "Como ejemplo final, construiremos un predictor sencillo que intente determinar si una persona es capaz o no de sobrevivir solo sabiendo el género.\n",
        "\n",
        "El modelo de predicción que usaremos es un regresor logístico que ajustará dos pesos desconocidos a la función logística para intentar aprender si la persona sobrevive o no lo hace.\n",
        "\n",
        "El modelo de la función logísitica es:\n",
        "\n",
        "$\\phi(x | \\beta_0, \\beta_1) = \\frac{1}{1 + e^{-(\\beta_0 + \\beta_1 x)}}$\n",
        "\n",
        "donde $\\beta_0, \\beta_1$ son desconocidos y tenemos que encontrarlos de alguna forma.\n",
        "\n",
        "Usaremos la optimización aleatoria para intentar encontrar $\\beta_0, \\beta_1$ que generen el menor error entre la supervivencia y lo que produce $\\phi(x | \\beta_0, \\beta_1)$ donde $x$ será $1$ si es hombre y $0$ si es mujer."
      ],
      "metadata": {
        "id": "bgCdJBkF--5S"
      }
    },
    {
      "cell_type": "code",
      "source": [
        "# 1. Establecemos los pesos iniciales\n",
        "beta_0 = 0\n",
        "beta_1 = 0\n",
        "\n",
        "# 2. Definimos la función logística dada x, beta_0 y beta_1\n",
        "import math\n",
        "def logistic(x, beta_0, beta_1):\n",
        "  return 1 / (1 + math.exp(-(beta_0 + beta_1 * x)))\n",
        "\n",
        "# 3. Definimos la función que mide el error entre la función logística\n",
        "# y los datos de supervivencia\n",
        "def error_supervivencia(beta_0, beta_1):\n",
        "  e = 0\n",
        "  for i, genero, supervivencia in data.itertuples():\n",
        "    x = { \"male\": 1, \"female\": 0 }[genero]\n",
        "    y = supervivencia\n",
        "    yp = logistic(x, beta_0, beta_1)\n",
        "    e = e + (y - yp) ** 2\n",
        "  return e\n",
        "\n",
        "# 4. Medimos el error inicial para la beta_0 y beta_1 actuales\n",
        "print(f\"Error ({beta_0}, {beta_1}): {error_supervivencia(beta_0, beta_1)}\")"
      ],
      "metadata": {
        "colab": {
          "base_uri": "https://localhost:8080/",
          "height": 0
        },
        "id": "9XMuw9uRAt-K",
        "outputId": "9f536e0f-617d-4059-b6c9-6cb500dea9ce"
      },
      "execution_count": 473,
      "outputs": [
        {
          "output_type": "stream",
          "name": "stdout",
          "text": [
            "Error (0, 0): 222.75\n"
          ]
        }
      ]
    },
    {
      "cell_type": "markdown",
      "source": [
        "Ahora realizamos la optimización de las $beta_0$ y $beta_1$ para calcular las mejores durante 5,000 épocas"
      ],
      "metadata": {
        "id": "n-13BkYmEsv9"
      }
    },
    {
      "cell_type": "code",
      "source": [
        "# 1. Durante 5,000 épocas modificamos aleatoriamente los pesos beta_0 y beta_1\n",
        "# y determinamos si son mejores que los anteriores, para actualziarlos\n",
        "import numpy\n",
        "for epoca in range(5000):\n",
        "  # Proponemos una beta_0, beta_1 modificada\n",
        "  beta_0_propuesta = numpy.random.normal(0, 100)\n",
        "  beta_1_propuesta = numpy.random.normal(0, 100)\n",
        "\n",
        "  # Comparamos si error de la beta_0, beta_1 actuales\n",
        "  # es mayor al error de las beta_0, beta_1 propuestas\n",
        "  e_actual = error_supervivencia(beta_0, beta_1)\n",
        "  e_propuesta = error_supervivencia(beta_0_propuesta, beta_1_propuesta)\n",
        "\n",
        "  if e_propuesta < e_actual:\n",
        "    beta_0 = beta_0_propuesta\n",
        "    beta_1 = beta_1_propuesta\n",
        "\n",
        "# 2. Medimos el error inicial para la beta_0 y beta_1 optimizadas\n",
        "print(f\"Error ({beta_0}, {beta_1}): {error_supervivencia(beta_0, beta_1)}\")"
      ],
      "metadata": {
        "colab": {
          "base_uri": "https://localhost:8080/",
          "height": 0
        },
        "id": "aDWQLNPWErzU",
        "outputId": "89fdc391-06e5-4b23-c97f-9ea09d594c35"
      },
      "execution_count": 474,
      "outputs": [
        {
          "output_type": "stream",
          "name": "stdout",
          "text": [
            "Error (1.453992981104975, -4.153916775159738): 159.14097746106174\n"
          ]
        }
      ]
    },
    {
      "cell_type": "markdown",
      "source": [
        "En este punto hemos encontrado la mejores $\\beta_0, \\beta_1$ que al aplicar la regresión logística predicen un dato."
      ],
      "metadata": {
        "id": "itFiXEEJDWzE"
      }
    },
    {
      "cell_type": "markdown",
      "source": [
        "Ahora podemos calcular la diferencia entre las predicciones de supervivencia y las reales para cada género"
      ],
      "metadata": {
        "id": "cyExgbWYDlxG"
      }
    },
    {
      "cell_type": "code",
      "source": [
        "print(f\"Supervivencia de mujeres: {100 * logistic(0, beta_0, beta_1):.2f}%\")\n",
        "print(f\"Supervivencia de hombres: {100 * logistic(1, beta_0, beta_1):.2f}%\")"
      ],
      "metadata": {
        "colab": {
          "base_uri": "https://localhost:8080/",
          "height": 0
        },
        "id": "cH4s5tcADs2m",
        "outputId": "55de9745-54a0-46d7-83a8-eb9751bf0564"
      },
      "execution_count": 475,
      "outputs": [
        {
          "output_type": "stream",
          "name": "stdout",
          "text": [
            "Supervivencia de mujeres: 81.06%\n",
            "Supervivencia de hombres: 6.30%\n"
          ]
        }
      ]
    },
    {
      "cell_type": "markdown",
      "source": [
        "Los valores reales deberían ser $74.20$% y $18.89$%.\n",
        "\n",
        "¿Queda cerca lo lejos el regresor logístico?"
      ],
      "metadata": {
        "id": "7LS0kLJVEC2z"
      }
    },
    {
      "cell_type": "markdown",
      "source": [
        "### Conociendo Python: Sintaxis, variables e impresión\n",
        "\n",
        "Ha llegado el momento de aprender a utilizar Python, ya vimos demasiado código en chino como para seguir progresando en problemas científicos, sin entender cómo se resolvieron a través de Python.\n",
        "\n",
        "Primero daremos una introducción a la sintaxis de Python, luego al manejo de variables y finalmente a la impresión y generación de reportes con formato."
      ],
      "metadata": {
        "id": "Vmx4SVKZGcU2"
      }
    },
    {
      "cell_type": "markdown",
      "source": [
        "### Sintaxis\n",
        "\n",
        "La sintaxis de Python es muy clara, pero abstracta.\n",
        "\n",
        "Primero partamos de dos componentes básicos del lenguaje:\n",
        "\n",
        "- **Sentencia** - Es una línea de código que genera una instrucción directa mediante una expresión, por ejemplo, asignar el valor de una variable o ejecutar una función, las cuales son las dos sentencias principales y mayormente utilizadas\n",
        "- **Bloque de sentencias** - Un bloque de sentencias es una anidación de sentencias guiada por una estructura de control o la declaración de una función. En Python, una anidación siempre debe marcarse por una indentación, la cual es un número fijo de caracteres espacios o tabuladores que indicarán el desplazamiento a la derecha en las sentencias que pertenecen al bloque. Lo común es usar un tabulador, dos espacios o cuatro espacios, pero el código debe ser consistente, es decir, si se usa un tabulador, en todo el código la indentación siempre debe ser de un tabulador por cada nivel anidado.\n",
        "\n",
        "Esto suena complejo, pero es más sencillo con una esquematización.\n",
        "\n",
        "Por ejemplo, para un bloque simple tenemos:\n",
        "\n",
        "```text\n",
        "BLOQUE:\n",
        "  SENTETANCIA_1\n",
        "  SENTETANCIA_2\n",
        "  ...\n",
        "  SENTETANCIA_N\n",
        "```\n",
        "\n",
        "Y para un bloque anidado tenemos:\n",
        "\n",
        "```text\n",
        "BLOQUE_PRINCIPAL:\n",
        "  SENTETANCIA_P1\n",
        "  SENTETANCIA_P2\n",
        "  ...\n",
        "\n",
        "  BLOQUE_ANIDADO:\n",
        "    SENTENCIA_A1\n",
        "    SENTENCIA_A2\n",
        "    ...\n",
        "    SENTENCIA_AM\n",
        "\n",
        "  ...\n",
        "  SENTETANCIA_PN\n",
        "```\n",
        "\n",
        "Intenta definir el esquema para un tercer bloque anidado, dentro del bloque anidado.\n",
        "\n",
        "Veamos el bloque simple con un ejemplo real:\n",
        "\n",
        "```python\n",
        "edad = input(\"Dame tu edad:\")\n",
        "\n",
        "if edad >= 18:\n",
        "  print(\"Eres mayor de edad\")\n",
        "  print(\"Puedes pasar :D\")\n",
        "```\n",
        "\n",
        "Intenta reproducir el código y ejecutarlo en una celda.\n",
        "\n",
        "Ahora veamos el bloque anidado con un ejemplo real:\n",
        "\n",
        "```python\n",
        "pares = []\n",
        "\n",
        "for n in range(1, 101):\n",
        "  esPar = n % 2 == 0\n",
        "  if esPar:\n",
        "    pares.append(n)\n",
        "\n",
        "print(pares)\n",
        "```\n",
        "\n",
        "Analiza cada línea de código y determina en qué nivel se encuentra:\n",
        "\n",
        "* Nivel 0 - Es parte del programa principal\n",
        "* Nivel 1 - Pertenece al bloque inmediato (for)\n",
        "* Nivel 2 - Pertenece al bloque anidado (if)\n",
        "\n",
        "Ahora que sabemos la sintaxis general de Python, empecemos a construir programas.\n",
        "\n",
        "Pero antes, debemos aprender el uso de variables e impresiones."
      ],
      "metadata": {
        "id": "4WTK5D1sGuU7"
      }
    },
    {
      "cell_type": "markdown",
      "source": [
        "#### Sintaxis de python basada en ejemplos\n",
        "\n",
        "> Importar la librería math, random y numpy\n",
        "\n",
        "```python\n",
        "import math\n",
        "import random\n",
        "import numpy\n",
        "```\n",
        "\n",
        "> Usar las funciones dentro de las librerías\n",
        "\n",
        "```python\n",
        "math.cos(math.pi / 3)\n",
        "random.choice([\"manzana\", \"pera\", \"kiwi\"])\n",
        "numpy.zeros((3, 5))\n",
        "```\n",
        "\n",
        "> Declarar y asignar una variable con diferentes valores\n",
        "\n",
        "```python\n",
        "a = 123\n",
        "b = True\n",
        "c = \"Ana\"\n",
        "d = 123.456\n",
        "```\n",
        "\n",
        "> Crear una lista con elementos\n",
        "\n",
        "```python\n",
        "edades = [18, 23, 45, 32, 64]\n",
        "```\n",
        "\n",
        "> Recorrer una lista de elementos\n",
        "\n",
        "```python\n",
        "for edad in edades:\n",
        "  print(f\"La edad es: {edad}\")\n",
        "```\n",
        "\n",
        "> Definir una función suma que recibe dos parámetros\n",
        "\n",
        "```python\n",
        "def suma(a, b):\n",
        "  return a + b\n",
        "```\n",
        "\n",
        "> Llamar a la función suma con diferentes parámetros y guardar el resultado en variables\n",
        "\n",
        "```python\n",
        "s1 = suma(100, 200)\n",
        "s2 = suma(23, 9)\n",
        "s3 = suma(198.57, 325.76)\n",
        "```\n",
        "\n",
        "> Definir una función distancia que calcula la distancia entre los puntos $(x_1, y_1)$ y $(x_2, y_2)$\n",
        "\n",
        "```python\n",
        "import math\n",
        "\n",
        "def distancia(x1, y1, x2, y2):\n",
        "  dx = x1 - x2\n",
        "  dy = y1 - y2\n",
        "\n",
        "  d2 = dx ** 2 + dy ** 2\n",
        "\n",
        "  return math.sqrt(d2)\n",
        "```\n",
        "\n",
        "> Llamar a la función distancia para distintos parámetros y almacenar el resultado\n",
        "\n",
        "```python\n",
        "d1 = distancia(1, 1, 2, 2)\n",
        "d2 = distancia(0, 0, 5, 3)\n",
        "d3 = distancia(-2, 3, 5, -11)\n",
        "```"
      ],
      "metadata": {
        "id": "1b2eJWfTKE2n"
      }
    },
    {
      "cell_type": "markdown",
      "source": [
        "Transcribe sin copiar y pegar cada ejemplo y ejecútalo."
      ],
      "metadata": {
        "id": "iCKAyr3gWdzA"
      }
    },
    {
      "cell_type": "markdown",
      "source": [
        "### Variables\n",
        "\n",
        "En el apartado anterior de sintaxis hemos visto que $a = 123$ asigna una variable llamada $a$ al valor de $123$, pero no es suficiente conocer la sintaxis para manejar variables.\n",
        "\n",
        "Las variables son memorias nombradas que sirven para almacenar valores.\n",
        "\n",
        "Por ejemplo, al crear una variable llamada $edad$, python reservará una memoria para almacenar un valor, sin importar lo grande o pequeño que sea. Cuando no estamos seguros de qué almacenar en una variable podemos usar $\\text{mi_variable} = None$.\n",
        "\n",
        "A través de las variables podremos acceder al valor almacenado en esa variable. No todos los nombres que se nos ocurran serán válidos, el nombre de la variable es muy restrictivo, pero en general podemos usar palabras sin acentos ni espacios, ni caracteres especiales. También podremos usar guines bajos (`_`) y números, pero nunca podremos empezar por un número el nombre de la variable, ya que pensará que es un número y no una variable.\n",
        "\n",
        "Hay cinco valores básicos que podrá almacenar una variable:\n",
        "\n",
        "* **Números enteros** - que se construyen de dígitos sin punto decimal\n",
        "* **Números decimales** - que se construyen de dígitos con un punto decimal\n",
        "* **Valores lógicos** - que representan verdadero o falso y se construyen por las palabras `True` y `False`.\n",
        "* **Textos** - que representan cadenas de caracteres libres que contienen texto, y se construyen mediante caracteres o emoticones encerrados entre comillas dobles o simples (como la cadena de texto `\"abc 🔥\"` o la cadena `'Hola mundo 🧿'`).\n",
        "* **None** - que representa un valor vacío y se construye con la palabra `None`.\n",
        "\n",
        "Las variables también pueden almacenar listas, tuplas, diccionarios, arreglos, series, dataframes y demás objetos complejos que en el fondo sólo tendrán los cinco valores básicos."
      ],
      "metadata": {
        "id": "ju9kfGU_Wjwa"
      }
    },
    {
      "cell_type": "markdown",
      "source": [
        "#### Ejemplo: Variables sobre un producto\n",
        "\n",
        "Veamos las variables que necesitaríamos tener para representar los datos de un producto"
      ],
      "metadata": {
        "id": "3bf1cEERZcLH"
      }
    },
    {
      "cell_type": "code",
      "source": [
        "nombre = \"Tenis Pumba\"\n",
        "marca = 'Adidas'\n",
        "\n",
        "precio_adquisicion = 450.80\n",
        "precio_venta = 650.51\n",
        "\n",
        "existencias = 234\n",
        "\n",
        "modelo_hombre = True\n",
        "modelo_mujer = False\n",
        "\n",
        "color_principal = \"#ffffff\"\n",
        "color_secundario = \"#ff0000\"\n",
        "color_acento = \"#00ff00\"\n",
        "\n",
        "valoracion = None"
      ],
      "metadata": {
        "id": "EBwRPMU3Zs2P"
      },
      "execution_count": 476,
      "outputs": []
    },
    {
      "cell_type": "markdown",
      "source": [
        "Es simple, no necesitamos más tipos de datos para procesar la información, basta tener textos, números y valores lógicos."
      ],
      "metadata": {
        "id": "YV30E0utax6p"
      }
    },
    {
      "cell_type": "markdown",
      "source": [
        "### Impresión\n",
        "\n",
        "Algo fundamental para manejar variables y programas de Python en general es la impresión.\n",
        "\n",
        "Para formar buenos reportes impresos, debemos aprender el formato moderno de impresión, es cual nos permite insertar variables o cálculos dentro de una cadena de texto a la que llamaremos **Texto con Formato** y podremos imprimirla o guardarla en un archivo.\n",
        "\n",
        "Primero veamos que un texto con formato:\n",
        "\n",
        "* **Texto** - Le llamaremos así a cualquier cadena de texto que ponemos entre comillas (simples o dobles), por ejemplo, `\"Hola tú\"`\n",
        "* **Texto con Formato** - Le llamaremos así a las cadenas de texto que ponemos entre comillas (simples o dobles), pero que tienen una `f` inicial pegada al principio, esta `f` indicará que se trata de un formato o *texto con formato*. A estos textos les podremos inyectar variables, por ejemplo, `f\"Hola {nombre}\"` o `f'La distancia es: {d} del punto ({x1}, {y1}) al punto ({x2, y2})'`.\n",
        "\n",
        "Dentro de los formatos al inyectar una variable, se puede especificar el número de espacios requeridos, por ejemplo, `\"Producto: {nombre:20}\"`, inyectará el valor de la variable nombre, pero garantizará al menos 20 caracteres, por ejemplo, si `nombre = \"Coca Cola\"`, se rellenará el texto a \"Producto:            Coca Cola\".\n",
        "\n",
        "Podemos usar modificadores para que el contenido inyectado se alinee a la izquierda, derecha o enmedio:\n",
        "\n",
        "* **`{x:>20}`** - inyecta `x` y rellena a 20 caracteres con espacios, el valor queda justificado a la derecha.\n",
        "* **`{x:<20}`** - inyecta `x` y rellena a 20 caracteres con espacios, el valor queda justificado a la izquierda.\n",
        "* **`{x:^20}`** - inyecta `x` y rellena a 20 caracteres con espacios, el valor centrado.\n",
        "\n",
        "También podemos especificar el número de puntos decimales si el valor inyectado es un número, por ejemplo, `{x:20.3f}` inyecta el valor de `x`, garantiza 20 caracteres y limita el valor a 3 decimales. Observa que `.<k>f` especifica `k` decimales y la `f` dice que es un número que puede tener decimales.\n",
        "\n",
        "Finalmente, un texto puede ser repetido al multiplicarlo, por ejemplo, `\"Hola\" * 3` será equivalente al texto `\"HolaHolaHola\"`. Esto es útil para formar separadores en los reportes, por ejemplo, `\"-\" * 8` que creará la cadena `\"--------\"`.\n",
        "\n"
      ],
      "metadata": {
        "id": "gb9casrfa6PH"
      }
    },
    {
      "cell_type": "markdown",
      "source": [
        "#### Ejemplo: Reporte simple\n",
        "\n",
        "Veamos como podemos construir un reporte simple usando el valor de las variables del producto y la función `print(<texto>)` que imprime en la pantalla el texto que se le pasa"
      ],
      "metadata": {
        "id": "zw2mKEWneAtI"
      }
    },
    {
      "cell_type": "code",
      "source": [
        "print(\"Reporte del producto\")\n",
        "print(\"=\" * 40)\n",
        "\n",
        "print()\n",
        "\n",
        "print(f\"Producto: {nombre} / {marca}\")\n",
        "print(\"-\" * 40)\n",
        "print(f\"Precio adquisición  :  $ {precio_adquisicion:9.2f}\")\n",
        "print(f\"Precio al público   :  $ {precio_venta:9.2f}\")\n",
        "print(\"-\" * 40)\n",
        "print(f\"Ganancia por unidad :  $ {precio_venta - precio_adquisicion:9.2f}\")\n",
        "print(\"-\" * 40)\n",
        "\n",
        "print()\n",
        "\n",
        "print(\"Inventario\")\n",
        "print(\"•\" * 40)\n",
        "print(f\"Existencias         : {existencias:12}\")\n",
        "print(\"•\" * 40)\n",
        "print(f\"Valor retenido      :  $ {precio_adquisicion * existencias:9.2f}\")\n",
        "print(f\"Valor esperado      :  $ {precio_venta * existencias:9.2f}\")\n",
        "print(\"•\" * 40)\n",
        "print(f\"Ganancias esperadas :  $ {(precio_venta - precio_adquisicion) * existencias:9.2f}\")\n",
        "print(\"•\" * 40)\n",
        "\n"
      ],
      "metadata": {
        "colab": {
          "base_uri": "https://localhost:8080/",
          "height": 0
        },
        "id": "YO8-IMjAeAWN",
        "outputId": "ab887a9f-ae35-4f67-f04c-e7c6b2676c87"
      },
      "execution_count": 477,
      "outputs": [
        {
          "output_type": "stream",
          "name": "stdout",
          "text": [
            "Reporte del producto\n",
            "========================================\n",
            "\n",
            "Producto: Tenis Pumba / Adidas\n",
            "----------------------------------------\n",
            "Precio adquisición  :  $    450.80\n",
            "Precio al público   :  $    650.51\n",
            "----------------------------------------\n",
            "Ganancia por unidad :  $    199.71\n",
            "----------------------------------------\n",
            "\n",
            "Inventario\n",
            "••••••••••••••••••••••••••••••••••••••••\n",
            "Existencias         :          234\n",
            "••••••••••••••••••••••••••••••••••••••••\n",
            "Valor retenido      :  $ 105487.20\n",
            "Valor esperado      :  $ 152219.34\n",
            "••••••••••••••••••••••••••••••••••••••••\n",
            "Ganancias esperadas :  $  46732.14\n",
            "••••••••••••••••••••••••••••••••••••••••\n"
          ]
        }
      ]
    },
    {
      "cell_type": "markdown",
      "source": [
        "Al generar buenos reportes de texto, podremos explicar la información de nuestros datos y los resultados que derivemos de forma clara y precisa."
      ],
      "metadata": {
        "id": "jkl74A8igkic"
      }
    },
    {
      "cell_type": "markdown",
      "source": [
        "Pero, si queremos almacenar el reporte, podemos almacenar todo el reporte en una sola cadena de texto y luego mandarla a guardar a un archivo"
      ],
      "metadata": {
        "id": "yE-giUnBhAJm"
      }
    },
    {
      "cell_type": "code",
      "source": [
        "reporte = f\"\"\"\n",
        "Reporte del producto\n",
        "{'=' * 40}\n",
        "\n",
        "Producto: {nombre} / {marca}\n",
        "{'-' * 40}\n",
        "Precio adquisición  :  $ {precio_adquisicion:9.2f}\n",
        "Precio al público   :  $ {precio_venta:9.2f}\n",
        "{'-' * 40}\n",
        "Ganancia por unidad :  $ {precio_venta - precio_adquisicion:9.2f}\n",
        "{'-' * 40}\n",
        "\n",
        "Inventario\n",
        "{'•' * 40}\n",
        "Existencias         : {existencias:12}\n",
        "{'•' * 40}\n",
        "Valor retenido      :  $ {precio_adquisicion * existencias:9.2f}\n",
        "Valor esperado      :  $ {precio_venta * existencias:9.2f}\n",
        "{'•' * 40}\n",
        "Ganancias esperadas :  $ {(precio_venta - precio_adquisicion) * existencias:9.2f}\n",
        "{'•' * 40}\n",
        "\"\"\"\n",
        "\n",
        "archivo = open(\"reporte1.txt\", \"w\")\n",
        "\n",
        "archivo.write(reporte.strip())\n",
        "\n",
        "archivo.close()\n",
        "\n",
        "print(reporte)"
      ],
      "metadata": {
        "colab": {
          "base_uri": "https://localhost:8080/",
          "height": 0
        },
        "id": "SRDO8sp2hAks",
        "outputId": "088087d1-e463-4399-e475-defff2f27adb"
      },
      "execution_count": 478,
      "outputs": [
        {
          "output_type": "stream",
          "name": "stdout",
          "text": [
            "\n",
            "Reporte del producto\n",
            "========================================\n",
            "\n",
            "Producto: Tenis Pumba / Adidas\n",
            "----------------------------------------\n",
            "Precio adquisición  :  $    450.80\n",
            "Precio al público   :  $    650.51\n",
            "----------------------------------------\n",
            "Ganancia por unidad :  $    199.71\n",
            "----------------------------------------\n",
            "\n",
            "Inventario\n",
            "••••••••••••••••••••••••••••••••••••••••\n",
            "Existencias         :          234\n",
            "••••••••••••••••••••••••••••••••••••••••\n",
            "Valor retenido      :  $ 105487.20\n",
            "Valor esperado      :  $ 152219.34\n",
            "••••••••••••••••••••••••••••••••••••••••\n",
            "Ganancias esperadas :  $  46732.14\n",
            "••••••••••••••••••••••••••••••••••••••••\n",
            "\n"
          ]
        }
      ]
    },
    {
      "cell_type": "markdown",
      "source": [
        "Observa que hemos definido un texto en múltiples líneas usando `\"\"\" ... \"\"\"`, además hemos abierto un archivo con la función `open(<ruta>, <modo>)`, donde el modo `w` significa escritura y luego hemos escrito el reporte en el archivo, pero usando `reporte.strip()` que quita el salto de línea inicial y final. Finalmente, hemos cerrado el archivo y ahora podemos consultarlo en los archivos de la libreta."
      ],
      "metadata": {
        "id": "kJ-USa_Shuy-"
      }
    }
  ]
}